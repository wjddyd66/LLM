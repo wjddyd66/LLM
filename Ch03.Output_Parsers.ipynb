{
 "cells": [
  {
   "cell_type": "markdown",
   "id": "c4ad5951",
   "metadata": {},
   "source": [
    "---\n",
    "layout: post\n",
    "title:  \"Ch03.Output Parsers\"\n",
    "date:   2025-06-27 02:00:00 +0700\n",
    "categories: [LLM]\n",
    "---\n",
    "\n",
    "<script type=\"text/x-mathjax-config\">\n",
    "MathJax.Hub.Config({tex2jax: {inlineMath: [['$','$'], ['\\\\(','\\\\)']]}});\n",
    "</script>\n",
    "<script type=\"text/javascript\" src=\"https://cdn.mathjax.org/mathjax/latest/MathJax.js?config=TeX-MML-AM_CHTML\">\n",
    "</script>\n",
    "\n",
    "### 참조 사이트.\n",
    "해당 Post는 <a href=\"https://wikidocs.net/book/14314\">LangChain 위키독스</a>에 나와있는 예제와 흐름을 파악하는 용도 입니다.  "
   ]
  },
  {
   "cell_type": "markdown",
   "id": "e3ce5a82",
   "metadata": {},
   "source": [
    "### Output Parser\n",
    "\n",
    "Lang Chaing의 출력파서(Output Parser)는 LLM의 출력을 구조화된 형태로 변환하는 중요한 컴포넌트이다. 사용자가 원하는 Output Format으로 변환함으로 인하여, LLM간의 통신 혹은 후처리에서 이용이 가능하게 지정할 수 있다. 혹은 데이터를 파싱하여 사용할 수 있다.\n",
    "\n",
    "**주요 특징**  \n",
    "1. 다양성: LangChain은 많은 종류의 출력 파서를 제공합니다.\n",
    "2. 스트리밍 지원: 많은 출력 파서들이 스트리밍을 지원합니다.\n",
    "3. 확장성: 최소한의 모듈부터 복잡한 모듈까지 확장 가능한 인터페이스를 제공합니다.\n",
    "\n",
    "**Output Example**  \n",
    "\n",
    "기존 LLM Output\n",
    "```code\n",
    "**중요 내용 추출:**\n",
    "\n",
    "1. **발신자:** 김철수 (chulsoo.kim@bikecorporation.me)\n",
    "2. **수신자:** 이은채 (eunchae@teddyinternational.me)\n",
    "3. **제목:** \"ZENESIS\" 자전거 유통 협력 및 미팅 일정 제안\n",
    "4. **요청 사항:**\n",
    "   - ZENESIS 모델의 상세한 브로슈어 요청 (기술 사양, 배터리 성능, 디자인 정보 포함)\n",
    "5. **미팅 제안:**\n",
    "   - 날짜: 다음 주 화요일 (1월 15일)\n",
    "   - 시간: 오전 10시\n",
    "   - 장소: 귀사 사무실\n",
    "\n",
    "6. **발신자 정보:**\n",
    "   - 김철수, 상무이사, 바이크코퍼레이션\n",
    "```\n",
    "\n",
    "JSON 형식의 구조화 된 답변\n",
    "```code\n",
    "{\n",
    "  \"person\": \"김철수\",\n",
    "  \"email\": \"chulsoo.kim@bikecorporation.me\",\n",
    "  \"subject\": \"\\\"ZENESIS\\\" 자전거 유통 협력 및 미팅 일정 제안\",\n",
    "  \"summary\": \"바이크코퍼레이션의 김철수 상무가 테디인터내셔널의 이은채 대리에게 신규 자전거 'ZENESIS' 모델에 대한 브로슈어 요청과 기술 사양, 배터리 성능, 디자인 정보 요청. 또한, 협력 논의를 위해 1월 15일 오전 10시에 미팅 제안.\",\n",
    "  \"date\": \"1월 15일 오전 10시\"\n",
    "}\n",
    "```\n"
   ]
  },
  {
   "cell_type": "markdown",
   "id": "3f218e74",
   "metadata": {},
   "source": [
    "### Setting"
   ]
  },
  {
   "cell_type": "markdown",
   "id": "a182e24a",
   "metadata": {},
   "source": [
    "#### Import Library"
   ]
  },
  {
   "cell_type": "markdown",
   "id": "fe8745fd",
   "metadata": {},
   "source": [
    "#### Appendix. Pydantic\n",
    "\n",
    "LangChain, LangGraph에서 OutputParser로 많이 사용하는 Pydantic을 먼저 확인하자.  \n",
    "\n",
    "Pydantic은 Python의 데이터 검증 및 설정 관리 라이브러리로, **Python type annotation**을 기반으로 데이터 유효성 검사, 자동 변환, 직렬화 등을 편리하게 수행할 수 있게 해줍니다. \n",
    "\n",
    "| 특징               | 설명                                                   |\n",
    "| ---------------- | ---------------------------------------------------- |\n",
    "| **타입 기반 유효성 검사** | Python 3의 타입 힌트를 사용해 자동으로 입력값 검증                     |\n",
    "| **자동 타입 캐스팅**    | 가능한 경우 입력값을 지정한 타입으로 자동 변환                           |\n",
    "| **데이터 직렬화/역직렬화** | `dict`, `json` 등으로 직렬화 가능                            |\n",
    "| **중첩 모델 지원**     | 다른 Pydantic 모델을 필드로 가질 수 있음                          |\n",
    "| **환경변수 설정 지원**   | `.env` 파일 등으로부터 설정 값을 불러올 수 있음 (Settings Management) |\n",
    "| **속도**           | 내부적으로 Cython으로 최적화되어 있어 빠름                           |\n",
    "| **엄격한 모드 지원**    | `StrictStr`, `StrictInt` 등을 사용해 자동 변환을 막을 수 있음       |\n"
   ]
  },
  {
   "cell_type": "markdown",
   "id": "66da320f",
   "metadata": {},
   "source": [
    "**기본 예제**"
   ]
  },
  {
   "cell_type": "code",
   "execution_count": null,
   "id": "cd078f0b",
   "metadata": {},
   "outputs": [
    {
     "name": "stdout",
     "output_type": "stream",
     "text": [
      "id=123 name='Alice' signup_ts=None friends=[1, 2, 3]\n",
      "{'id': 123, 'name': 'Alice', 'signup_ts': None, 'friends': [1, 2, 3]}\n"
     ]
    },
    {
     "name": "stderr",
     "output_type": "stream",
     "text": [
      "C:\\Users\\wjddy\\AppData\\Local\\Temp\\ipykernel_18652\\193206898.py:12: PydanticDeprecatedSince20: The `dict` method is deprecated; use `model_dump` instead. Deprecated in Pydantic V2.0 to be removed in V3.0. See Pydantic V2 Migration Guide at https://errors.pydantic.dev/2.11/migration/\n",
      "  print(user.dict())\n"
     ]
    }
   ],
   "source": [
    "from pydantic import validator\n",
    "from pydantic import BaseModel, Field\n",
    "from pydantic import StrictInt, StrictStr\n",
    "\n",
    "class User(BaseModel):\n",
    "    id: int\n",
    "    name: str\n",
    "    signup_ts: str = None\n",
    "    friends: list[int] = []\n",
    "\n",
    "user = User(id='123', name='Alice', friends=[1, '2', 3])\n",
    "print(user)\n",
    "print(user.dict())"
   ]
  },
  {
   "cell_type": "markdown",
   "id": "80ae2b90",
   "metadata": {},
   "source": [
    "**중첩 사용**"
   ]
  },
  {
   "cell_type": "code",
   "execution_count": 3,
   "id": "d857977f",
   "metadata": {},
   "outputs": [
    {
     "name": "stdout",
     "output_type": "stream",
     "text": [
      "Seoul\n"
     ]
    }
   ],
   "source": [
    "class Address(BaseModel):\n",
    "    city: str\n",
    "    zipcode: str\n",
    "\n",
    "class Person(BaseModel):\n",
    "    name: str\n",
    "    age: int\n",
    "    address: Address\n",
    "\n",
    "data = {\n",
    "    'name': 'John',\n",
    "    'age': 30,\n",
    "    'address': {\n",
    "        'city': 'Seoul',\n",
    "        'zipcode': '12345'\n",
    "    }\n",
    "}\n",
    "\n",
    "p = Person(**data)\n",
    "print(p.address.city)  # 'Seoul'"
   ]
  },
  {
   "cell_type": "markdown",
   "id": "d6cc2368",
   "metadata": {},
   "source": [
    "**유효성 검사**"
   ]
  },
  {
   "cell_type": "code",
   "execution_count": null,
   "id": "544867f7",
   "metadata": {},
   "outputs": [
    {
     "name": "stderr",
     "output_type": "stream",
     "text": [
      "C:\\Users\\wjddy\\AppData\\Local\\Temp\\ipykernel_18652\\3263515691.py:5: PydanticDeprecatedSince20: Pydantic V1 style `@validator` validators are deprecated. You should migrate to Pydantic V2 style `@field_validator` validators, see the migration guide for more details. Deprecated in Pydantic V2.0 to be removed in V3.0. See Pydantic V2 Migration Guide at https://errors.pydantic.dev/2.11/migration/\n",
      "  @validator('age') # age 필드의 유효성 검사\n"
     ]
    },
    {
     "ename": "ValidationError",
     "evalue": "1 validation error for User\nage\n  Value error, Age must be positive [type=value_error, input_value=-1, input_type=int]\n    For further information visit https://errors.pydantic.dev/2.11/v/value_error",
     "output_type": "error",
     "traceback": [
      "\u001b[31m---------------------------------------------------------------------------\u001b[39m",
      "\u001b[31mValidationError\u001b[39m                           Traceback (most recent call last)",
      "\u001b[36mCell\u001b[39m\u001b[36m \u001b[39m\u001b[32mIn[6]\u001b[39m\u001b[32m, line 16\u001b[39m\n\u001b[32m     13\u001b[39m         \u001b[38;5;28;01mreturn\u001b[39;00m v\n\u001b[32m     15\u001b[39m user = User(name=\u001b[33m'\u001b[39m\u001b[33mAlice\u001b[39m\u001b[33m'\u001b[39m, age=\u001b[32m30\u001b[39m)\n\u001b[32m---> \u001b[39m\u001b[32m16\u001b[39m user = \u001b[43mUser\u001b[49m\u001b[43m(\u001b[49m\u001b[43mname\u001b[49m\u001b[43m=\u001b[49m\u001b[33;43m'\u001b[39;49m\u001b[33;43mBob\u001b[39;49m\u001b[33;43m'\u001b[39;49m\u001b[43m,\u001b[49m\u001b[43m \u001b[49m\u001b[43mage\u001b[49m\u001b[43m=\u001b[49m\u001b[43m-\u001b[49m\u001b[32;43m1\u001b[39;49m\u001b[43m)\u001b[49m  \n",
      "\u001b[36mFile \u001b[39m\u001b[32md:\\Anaconda\\envs\\LLM\\Lib\\site-packages\\pydantic\\main.py:253\u001b[39m, in \u001b[36mBaseModel.__init__\u001b[39m\u001b[34m(self, **data)\u001b[39m\n\u001b[32m    251\u001b[39m \u001b[38;5;66;03m# `__tracebackhide__` tells pytest and some other tools to omit this function from tracebacks\u001b[39;00m\n\u001b[32m    252\u001b[39m __tracebackhide__ = \u001b[38;5;28;01mTrue\u001b[39;00m\n\u001b[32m--> \u001b[39m\u001b[32m253\u001b[39m validated_self = \u001b[38;5;28;43mself\u001b[39;49m\u001b[43m.\u001b[49m\u001b[43m__pydantic_validator__\u001b[49m\u001b[43m.\u001b[49m\u001b[43mvalidate_python\u001b[49m\u001b[43m(\u001b[49m\u001b[43mdata\u001b[49m\u001b[43m,\u001b[49m\u001b[43m \u001b[49m\u001b[43mself_instance\u001b[49m\u001b[43m=\u001b[49m\u001b[38;5;28;43mself\u001b[39;49m\u001b[43m)\u001b[49m\n\u001b[32m    254\u001b[39m \u001b[38;5;28;01mif\u001b[39;00m \u001b[38;5;28mself\u001b[39m \u001b[38;5;129;01mis\u001b[39;00m \u001b[38;5;129;01mnot\u001b[39;00m validated_self:\n\u001b[32m    255\u001b[39m     warnings.warn(\n\u001b[32m    256\u001b[39m         \u001b[33m'\u001b[39m\u001b[33mA custom validator is returning a value other than `self`.\u001b[39m\u001b[38;5;130;01m\\n\u001b[39;00m\u001b[33m'\u001b[39m\n\u001b[32m    257\u001b[39m         \u001b[33m\"\u001b[39m\u001b[33mReturning anything other than `self` from a top level model validator isn\u001b[39m\u001b[33m'\u001b[39m\u001b[33mt supported when validating via `__init__`.\u001b[39m\u001b[38;5;130;01m\\n\u001b[39;00m\u001b[33m\"\u001b[39m\n\u001b[32m    258\u001b[39m         \u001b[33m'\u001b[39m\u001b[33mSee the `model_validator` docs (https://docs.pydantic.dev/latest/concepts/validators/#model-validators) for more details.\u001b[39m\u001b[33m'\u001b[39m,\n\u001b[32m    259\u001b[39m         stacklevel=\u001b[32m2\u001b[39m,\n\u001b[32m    260\u001b[39m     )\n",
      "\u001b[31mValidationError\u001b[39m: 1 validation error for User\nage\n  Value error, Age must be positive [type=value_error, input_value=-1, input_type=int]\n    For further information visit https://errors.pydantic.dev/2.11/v/value_error"
     ]
    }
   ],
   "source": [
    "class User(BaseModel):\n",
    "    name: str\n",
    "    age: int\n",
    "\n",
    "    @validator('age') # age 필드의 유효성 검사\n",
    "    def age_must_be_positive(cls, v):\n",
    "        '''\n",
    "        - cls: 클래스 자체. (클래스 메서드처럼 사용)\n",
    "        - v: 해당 필드로 전달된 원본 값.\n",
    "        '''\n",
    "        if v <= 0:\n",
    "            raise ValueError('Age must be positive')\n",
    "        return v\n",
    "    \n",
    "user = User(name='Alice', age=30) # 정상 수행\n",
    "user = User(name='Bob', age=-1) # validator에서 확인."
   ]
  },
  {
   "cell_type": "markdown",
   "id": "01b70cde",
   "metadata": {},
   "source": [
    "**변환 (alias & serialization)**\n",
    "\n",
    "- <code>.dict()</code>: pydantic 결과를 dict 형태로 받음 - 내부 Python 변수명 기준\n",
    "- <code>by_alias=True</code>: pydantic 결과를 dict 형태로 받음 - 외부 시스템에서 사용하는 alias 기준"
   ]
  },
  {
   "cell_type": "code",
   "execution_count": null,
   "id": "24525f84",
   "metadata": {},
   "outputs": [
    {
     "ename": "ValidationError",
     "evalue": "2 validation errors for User\nuserId\n  Field required [type=missing, input_value={'user_id': 1, 'user_name': 'Alice'}, input_type=dict]\n    For further information visit https://errors.pydantic.dev/2.11/v/missing\nuserName\n  Field required [type=missing, input_value={'user_id': 1, 'user_name': 'Alice'}, input_type=dict]\n    For further information visit https://errors.pydantic.dev/2.11/v/missing",
     "output_type": "error",
     "traceback": [
      "\u001b[31m---------------------------------------------------------------------------\u001b[39m",
      "\u001b[31mValidationError\u001b[39m                           Traceback (most recent call last)",
      "\u001b[36mCell\u001b[39m\u001b[36m \u001b[39m\u001b[32mIn[10]\u001b[39m\u001b[32m, line 9\u001b[39m\n\u001b[32m      6\u001b[39m user = User(userId=\u001b[32m1\u001b[39m, userName=\u001b[33m\"\u001b[39m\u001b[33mAlice\u001b[39m\u001b[33m\"\u001b[39m)\n\u001b[32m      8\u001b[39m \u001b[38;5;66;03m# 내부 변수로 접근 불가능.\u001b[39;00m\n\u001b[32m----> \u001b[39m\u001b[32m9\u001b[39m user = \u001b[43mUser\u001b[49m\u001b[43m(\u001b[49m\u001b[43muser_id\u001b[49m\u001b[43m=\u001b[49m\u001b[32;43m1\u001b[39;49m\u001b[43m,\u001b[49m\u001b[43m \u001b[49m\u001b[43muser_name\u001b[49m\u001b[43m=\u001b[49m\u001b[33;43m\"\u001b[39;49m\u001b[33;43mAlice\u001b[39;49m\u001b[33;43m\"\u001b[39;49m\u001b[43m)\u001b[49m\n",
      "\u001b[36mFile \u001b[39m\u001b[32md:\\Anaconda\\envs\\LLM\\Lib\\site-packages\\pydantic\\main.py:253\u001b[39m, in \u001b[36mBaseModel.__init__\u001b[39m\u001b[34m(self, **data)\u001b[39m\n\u001b[32m    251\u001b[39m \u001b[38;5;66;03m# `__tracebackhide__` tells pytest and some other tools to omit this function from tracebacks\u001b[39;00m\n\u001b[32m    252\u001b[39m __tracebackhide__ = \u001b[38;5;28;01mTrue\u001b[39;00m\n\u001b[32m--> \u001b[39m\u001b[32m253\u001b[39m validated_self = \u001b[38;5;28;43mself\u001b[39;49m\u001b[43m.\u001b[49m\u001b[43m__pydantic_validator__\u001b[49m\u001b[43m.\u001b[49m\u001b[43mvalidate_python\u001b[49m\u001b[43m(\u001b[49m\u001b[43mdata\u001b[49m\u001b[43m,\u001b[49m\u001b[43m \u001b[49m\u001b[43mself_instance\u001b[49m\u001b[43m=\u001b[49m\u001b[38;5;28;43mself\u001b[39;49m\u001b[43m)\u001b[49m\n\u001b[32m    254\u001b[39m \u001b[38;5;28;01mif\u001b[39;00m \u001b[38;5;28mself\u001b[39m \u001b[38;5;129;01mis\u001b[39;00m \u001b[38;5;129;01mnot\u001b[39;00m validated_self:\n\u001b[32m    255\u001b[39m     warnings.warn(\n\u001b[32m    256\u001b[39m         \u001b[33m'\u001b[39m\u001b[33mA custom validator is returning a value other than `self`.\u001b[39m\u001b[38;5;130;01m\\n\u001b[39;00m\u001b[33m'\u001b[39m\n\u001b[32m    257\u001b[39m         \u001b[33m\"\u001b[39m\u001b[33mReturning anything other than `self` from a top level model validator isn\u001b[39m\u001b[33m'\u001b[39m\u001b[33mt supported when validating via `__init__`.\u001b[39m\u001b[38;5;130;01m\\n\u001b[39;00m\u001b[33m\"\u001b[39m\n\u001b[32m    258\u001b[39m         \u001b[33m'\u001b[39m\u001b[33mSee the `model_validator` docs (https://docs.pydantic.dev/latest/concepts/validators/#model-validators) for more details.\u001b[39m\u001b[33m'\u001b[39m,\n\u001b[32m    259\u001b[39m         stacklevel=\u001b[32m2\u001b[39m,\n\u001b[32m    260\u001b[39m     )\n",
      "\u001b[31mValidationError\u001b[39m: 2 validation errors for User\nuserId\n  Field required [type=missing, input_value={'user_id': 1, 'user_name': 'Alice'}, input_type=dict]\n    For further information visit https://errors.pydantic.dev/2.11/v/missing\nuserName\n  Field required [type=missing, input_value={'user_id': 1, 'user_name': 'Alice'}, input_type=dict]\n    For further information visit https://errors.pydantic.dev/2.11/v/missing"
     ]
    }
   ],
   "source": [
    "class User(BaseModel):\n",
    "    user_id: int = Field(..., alias=\"userId\")\n",
    "    user_name: str = Field(..., alias=\"userName\")\n",
    "\n",
    "# 외부 JSON처럼 alias로 입력 받기\n",
    "user = User(userId=1, userName=\"Alice\")\n",
    "\n",
    "# 내부 변수로 직접적으로 접근 불가능.\n",
    "user = User(user_id=1, user_name=\"Alice\")"
   ]
  },
  {
   "cell_type": "code",
   "execution_count": null,
   "id": "6aa403a9",
   "metadata": {},
   "outputs": [
    {
     "name": "stdout",
     "output_type": "stream",
     "text": [
      "{'user_id': 1, 'user_name': 'Alice'}\n",
      "{'userId': 1, 'userName': 'Alice'}\n"
     ]
    },
    {
     "name": "stderr",
     "output_type": "stream",
     "text": [
      "C:\\Users\\wjddy\\AppData\\Local\\Temp\\ipykernel_18652\\3464781162.py:1: PydanticDeprecatedSince20: The `dict` method is deprecated; use `model_dump` instead. Deprecated in Pydantic V2.0 to be removed in V3.0. See Pydantic V2 Migration Guide at https://errors.pydantic.dev/2.11/migration/\n",
      "  print(user.dict())\n",
      "C:\\Users\\wjddy\\AppData\\Local\\Temp\\ipykernel_18652\\3464781162.py:4: PydanticDeprecatedSince20: The `dict` method is deprecated; use `model_dump` instead. Deprecated in Pydantic V2.0 to be removed in V3.0. See Pydantic V2 Migration Guide at https://errors.pydantic.dev/2.11/migration/\n",
      "  print(user.dict(by_alias=True))\n"
     ]
    }
   ],
   "source": [
    "# Output은 모두 사용가능하나, key값이 다름.\n",
    "print(user.dict())\n",
    "print(user.dict(by_alias=True))"
   ]
  },
  {
   "cell_type": "markdown",
   "id": "97a60b70",
   "metadata": {},
   "source": [
    "**엄격 모드**\n",
    "\n",
    "TypeHint로 지정하는 것이 아닌, data type을 강제로 지정한다."
   ]
  },
  {
   "cell_type": "code",
   "execution_count": null,
   "id": "1fe75916",
   "metadata": {},
   "outputs": [
    {
     "ename": "ValidationError",
     "evalue": "1 validation error for Product\nname\n  Input should be a valid string [type=string_type, input_value=123, input_type=int]\n    For further information visit https://errors.pydantic.dev/2.11/v/string_type",
     "output_type": "error",
     "traceback": [
      "\u001b[31m---------------------------------------------------------------------------\u001b[39m",
      "\u001b[31mValidationError\u001b[39m                           Traceback (most recent call last)",
      "\u001b[36mCell\u001b[39m\u001b[36m \u001b[39m\u001b[32mIn[15]\u001b[39m\u001b[32m, line 8\u001b[39m\n\u001b[32m      5\u001b[39m     name: StrictStr\n\u001b[32m      7\u001b[39m product = Product(\u001b[38;5;28mid\u001b[39m=\u001b[32m123\u001b[39m, name=\u001b[33m'\u001b[39m\u001b[33m123\u001b[39m\u001b[33m'\u001b[39m) \u001b[38;5;66;03m# 정상 수행\u001b[39;00m\n\u001b[32m----> \u001b[39m\u001b[32m8\u001b[39m product = \u001b[43mProduct\u001b[49m\u001b[43m(\u001b[49m\u001b[38;5;28;43mid\u001b[39;49m\u001b[43m=\u001b[49m\u001b[32;43m123\u001b[39;49m\u001b[43m,\u001b[49m\u001b[43m \u001b[49m\u001b[43mname\u001b[49m\u001b[43m=\u001b[49m\u001b[32;43m123\u001b[39;49m\u001b[43m)\u001b[49m \u001b[38;5;66;03m# type error\u001b[39;00m\n",
      "\u001b[36mFile \u001b[39m\u001b[32md:\\Anaconda\\envs\\LLM\\Lib\\site-packages\\pydantic\\main.py:253\u001b[39m, in \u001b[36mBaseModel.__init__\u001b[39m\u001b[34m(self, **data)\u001b[39m\n\u001b[32m    251\u001b[39m \u001b[38;5;66;03m# `__tracebackhide__` tells pytest and some other tools to omit this function from tracebacks\u001b[39;00m\n\u001b[32m    252\u001b[39m __tracebackhide__ = \u001b[38;5;28;01mTrue\u001b[39;00m\n\u001b[32m--> \u001b[39m\u001b[32m253\u001b[39m validated_self = \u001b[38;5;28;43mself\u001b[39;49m\u001b[43m.\u001b[49m\u001b[43m__pydantic_validator__\u001b[49m\u001b[43m.\u001b[49m\u001b[43mvalidate_python\u001b[49m\u001b[43m(\u001b[49m\u001b[43mdata\u001b[49m\u001b[43m,\u001b[49m\u001b[43m \u001b[49m\u001b[43mself_instance\u001b[49m\u001b[43m=\u001b[49m\u001b[38;5;28;43mself\u001b[39;49m\u001b[43m)\u001b[49m\n\u001b[32m    254\u001b[39m \u001b[38;5;28;01mif\u001b[39;00m \u001b[38;5;28mself\u001b[39m \u001b[38;5;129;01mis\u001b[39;00m \u001b[38;5;129;01mnot\u001b[39;00m validated_self:\n\u001b[32m    255\u001b[39m     warnings.warn(\n\u001b[32m    256\u001b[39m         \u001b[33m'\u001b[39m\u001b[33mA custom validator is returning a value other than `self`.\u001b[39m\u001b[38;5;130;01m\\n\u001b[39;00m\u001b[33m'\u001b[39m\n\u001b[32m    257\u001b[39m         \u001b[33m\"\u001b[39m\u001b[33mReturning anything other than `self` from a top level model validator isn\u001b[39m\u001b[33m'\u001b[39m\u001b[33mt supported when validating via `__init__`.\u001b[39m\u001b[38;5;130;01m\\n\u001b[39;00m\u001b[33m\"\u001b[39m\n\u001b[32m    258\u001b[39m         \u001b[33m'\u001b[39m\u001b[33mSee the `model_validator` docs (https://docs.pydantic.dev/latest/concepts/validators/#model-validators) for more details.\u001b[39m\u001b[33m'\u001b[39m,\n\u001b[32m    259\u001b[39m         stacklevel=\u001b[32m2\u001b[39m,\n\u001b[32m    260\u001b[39m     )\n",
      "\u001b[31mValidationError\u001b[39m: 1 validation error for Product\nname\n  Input should be a valid string [type=string_type, input_value=123, input_type=int]\n    For further information visit https://errors.pydantic.dev/2.11/v/string_type"
     ]
    }
   ],
   "source": [
    "class Product(BaseModel):\n",
    "    id: StrictInt\n",
    "    name: StrictStr\n",
    "\n",
    "product = Product(id=123, name='123') # 정상 수행\n",
    "product = Product(id=123, name=123) # type error"
   ]
  },
  {
   "cell_type": "markdown",
   "id": "e20dd0f8",
   "metadata": {},
   "source": [
    "그 외에, E-mail 주소 형식, 날짜 비교, 문자열 길이 등 다양한 변수의 제한 할 수 있다."
   ]
  },
  {
   "cell_type": "markdown",
   "id": "864e9c58",
   "metadata": {},
   "source": [
    "### Setting"
   ]
  },
  {
   "cell_type": "markdown",
   "id": "50294561",
   "metadata": {},
   "source": [
    "#### Import Library"
   ]
  },
  {
   "cell_type": "code",
   "execution_count": null,
   "id": "f2864861",
   "metadata": {},
   "outputs": [],
   "source": [
    "import yaml\n",
    "from typing import List\n",
    "from pathlib import Path\n",
    "from datetime import datetime\n",
    "\n",
    "from langchain_openai import ChatOpenAI\n",
    "from langchain.embeddings.base import Embeddings\n",
    "from langchain_community.vectorstores import FAISS\n",
    "from langchain.schema import HumanMessage, AIMessage\n",
    "from langchain_core.prompts.few_shot import FewShotPromptTemplate\n",
    "from langchain_core.prompts import PromptTemplate, ChatPromptTemplate, MessagesPlaceholder, load_prompt\n",
    "from langchain_core.output_parsers import StrOutputParser\n",
    "\n",
    "\n",
    "from pydantic import BaseModel, Field\n",
    "from langchain_openai import ChatOpenAI\n",
    "from langchain_core.output_parsers import PydanticOutputParser"
   ]
  },
  {
   "cell_type": "code",
   "execution_count": 18,
   "id": "02291055",
   "metadata": {},
   "outputs": [],
   "source": [
    "from itertools import chain\n",
    "from pydantic import BaseModel, Field\n",
    "\n",
    "from langchain_openai import ChatOpenAI\n",
    "from langchain_core.prompts import PromptTemplate\n",
    "from langchain_core.output_parsers import PydanticOutputParser"
   ]
  },
  {
   "cell_type": "markdown",
   "id": "27c28aba",
   "metadata": {},
   "source": [
    "#### Model 선언"
   ]
  },
  {
   "cell_type": "code",
   "execution_count": 17,
   "id": "2c54d652",
   "metadata": {},
   "outputs": [],
   "source": [
    "model = ChatOpenAI(\n",
    "    base_url=\"http://localhost:8000/v1\",\n",
    "    api_key=\"EMPTY\",\n",
    "    model=\"Qwen/Qwen3-4B\"\n",
    ")"
   ]
  },
  {
   "cell_type": "markdown",
   "id": "1a7a7e59",
   "metadata": {},
   "source": [
    "### PydanticOutputParser\n",
    "\n",
    "**Argument**\n",
    "\n",
    "```python\n",
    "PydanticOutputParser(\n",
    "    pydantic_object: Type[BaseModel],\n",
    "    *,\n",
    "    include_keys: Optional[List[str]] = None,\n",
    "    exclude_keys: Optional[List[str]] = None,\n",
    "    strict: bool = False,\n",
    "    schema: Optional[Dict[str, Any]] = None\n",
    ")\n",
    "```\n",
    "\n",
    "| 인자                | 타입                         | 설명                                                |\n",
    "| ----------------- | -------------------------- | ------------------------------------------------- |\n",
    "| `pydantic_object` | `Type[BaseModel]`          | 파싱 대상이 되는 Pydantic 모델 클래스. 필수 입력                  |\n",
    "| `include_keys`    | `Optional[List[str]]`      | 출력 결과에서 포함할 키만 지정할 수 있음. 지정 시 해당 키만 포함됨           |\n",
    "| `exclude_keys`    | `Optional[List[str]]`      | 출력 결과에서 제외할 키를 지정할 수 있음                           |\n",
    "| `strict`          | `bool`                     | True로 설정 시, 모델의 스키마와 정확히 일치하지 않는 키가 있으면 오류 발생     |\n",
    "| `schema`          | `Optional[Dict[str, Any]]` | 직접 schema를 지정해서 유효성 검사를 커스터마이징 가능 (일반적으로 사용되지 않음) |\n",
    "\n",
    "\n",
    "**function**\n",
    "\n",
    "- <code>get_format_instructions</code>: 언어 모델(LLM)이 **어떤 형식으로 출력을 생성해야 하는지** 알려주는 **지침 문자열(instruction)** 을 반환한다. 주로 프롬프트 템플릿에 포함되어, LLM이 출력 결과를 지정된 **Pydantic 모델 형식**에 맞게 만들도록 유도한다.\n",
    "- <code>parse</code>: LLM이 출력한 **문자열(text)** 을 받아서, 이를 **Pydantic 모델 객체**로 파싱하는 메서드이다. 보통 LLM의 출력 결과를 Pydantic 기반으로 검증하거나, **구조화된 데이터**로 활용하고자 할 때 사용된다."
   ]
  },
  {
   "cell_type": "markdown",
   "id": "f9d04b93",
   "metadata": {},
   "source": [
    "#### Input Dataset"
   ]
  },
  {
   "cell_type": "code",
   "execution_count": 19,
   "id": "da2439cc",
   "metadata": {},
   "outputs": [],
   "source": [
    "email_conversation = \"\"\"From: 김철수 (chulsoo.kim@bikecorporation.me)\n",
    "To: 이은채 (eunchae@teddyinternational.me)\n",
    "Subject: \"ZENESIS\" 자전거 유통 협력 및 미팅 일정 제안\n",
    "\n",
    "안녕하세요, 이은채 대리님,\n",
    "\n",
    "저는 바이크코퍼레이션의 김철수 상무입니다. 최근 보도자료를 통해 귀사의 신규 자전거 \"ZENESIS\"에 대해 알게 되었습니다. 바이크코퍼레이션은 자전거 제조 및 유통 분야에서 혁신과 품질을 선도하는 기업으로, 이 분야에서의 장기적인 경험과 전문성을 가지고 있습니다.\n",
    "\n",
    "ZENESIS 모델에 대한 상세한 브로슈어를 요청드립니다. 특히 기술 사양, 배터리 성능, 그리고 디자인 측면에 대한 정보가 필요합니다. 이를 통해 저희가 제안할 유통 전략과 마케팅 계획을 보다 구체화할 수 있을 것입니다.\n",
    "\n",
    "또한, 협력 가능성을 더 깊이 논의하기 위해 다음 주 화요일(1월 15일) 오전 10시에 미팅을 제안합니다. 귀사 사무실에서 만나 이야기를 나눌 수 있을까요?\n",
    "\n",
    "감사합니다.\n",
    "\n",
    "김철수\n",
    "상무이사\n",
    "바이크코퍼레이션\n",
    "\"\"\"\n",
    "\n",
    "prompt = PromptTemplate.from_template(\n",
    "    \"다음의 이메일 내용중 중요한 내용을 추출해 주세요.\\n\\n{email_conversation}\"\n",
    ")"
   ]
  },
  {
   "cell_type": "markdown",
   "id": "9bcce50a",
   "metadata": {},
   "source": [
    "**W/O Output Parasers**"
   ]
  },
  {
   "cell_type": "code",
   "execution_count": 29,
   "id": "8b073b13",
   "metadata": {},
   "outputs": [
    {
     "name": "stdout",
     "output_type": "stream",
     "text": [
      "이메일에서 중요한 내용은 다음과 같습니다:\n",
      "\n",
      "1. **발신자 정보**  \n",
      "   - 이름: 김철수  \n",
      "   - 직책: 바이크코퍼레이션 상무이사  \n",
      "   - 이메일: chulsoo.kim@bikecorporation.me  \n",
      "\n",
      "2. **수신자 정보**  \n",
      "   - 이름: 이은채  \n",
      "   - 직책: TEDDY INTERNATIONAL 대리  \n",
      "   - 이메일: eunchae@teddyinternational.me  \n",
      "\n",
      "3. **주제**  \n",
      "   - \"ZENESIS\" 자전거 유통 협력 및 미팅 일정 제안  \n",
      "\n",
      "4. **핵심 요청**  \n",
      "   - TEDDY INTERNATIONAL의 신규 자전거 **ZENESIS**에 대한 **상세 브로슈어** 요청  \n",
      "     - 주요 정보: **기술 사양**, **배터리 성능**, **디자인 사항**  \n",
      "\n",
      "5. **협력 논의를 위한 미팅 제안**  \n",
      "   - 일정: **다음 주 화요일(1월 15일) 오전 10시**  \n",
      "   - 장소: TEDDY INTERNATIONAL 사무실  \n",
      "   - 목적: 유통 전략 및 마케팅 계획 논의  \n",
      "\n",
      "6. **회사 소개**  \n",
      "   - 바이크코퍼레이션은 자전거 제조 및 유통 분야에서 **혁신과 품질**을 선도하는 기업으로, **장기적인 경험과 전문성**을 강조.  \n",
      "\n",
      "이 정보는 협력 제안의 핵심 포인트를 간결하게 요약한 것입니다.\n"
     ]
    }
   ],
   "source": [
    "chain = prompt | model\n",
    "answer = chain.invoke({\"email_conversation\": email_conversation})\n",
    "print(answer.content.split(\"</think>\\n\\n\")[1])"
   ]
  },
  {
   "cell_type": "markdown",
   "id": "9cfc8ac0",
   "metadata": {},
   "source": [
    "**W Output Parsers**"
   ]
  },
  {
   "cell_type": "code",
   "execution_count": 30,
   "id": "a5119f22",
   "metadata": {},
   "outputs": [
    {
     "name": "stdout",
     "output_type": "stream",
     "text": [
      "The output should be formatted as a JSON instance that conforms to the JSON schema below.\n",
      "\n",
      "As an example, for the schema {\"properties\": {\"foo\": {\"title\": \"Foo\", \"description\": \"a list of strings\", \"type\": \"array\", \"items\": {\"type\": \"string\"}}}, \"required\": [\"foo\"]}\n",
      "the object {\"foo\": [\"bar\", \"baz\"]} is a well-formatted instance of the schema. The object {\"properties\": {\"foo\": [\"bar\", \"baz\"]}} is not well-formatted.\n",
      "\n",
      "Here is the output schema:\n",
      "```\n",
      "{\"properties\": {\"person\": {\"description\": \"메일을 보낸 사람\", \"title\": \"Person\", \"type\": \"string\"}, \"email\": {\"description\": \"메일을 보낸 사람의 이메일 주소\", \"title\": \"Email\", \"type\": \"string\"}, \"subject\": {\"description\": \"메일 제목\", \"title\": \"Subject\", \"type\": \"string\"}, \"summary\": {\"description\": \"메일 본문을 요약한 텍스트\", \"title\": \"Summary\", \"type\": \"string\"}, \"date\": {\"description\": \"메일 본문에 언급된 미팅 날짜와 시간\", \"title\": \"Date\", \"type\": \"string\"}}, \"required\": [\"person\", \"email\", \"subject\", \"summary\", \"date\"]}\n",
      "```\n"
     ]
    }
   ],
   "source": [
    "class EmailSummary(BaseModel):\n",
    "    person: str = Field(description=\"메일을 보낸 사람\")\n",
    "    email: str = Field(description=\"메일을 보낸 사람의 이메일 주소\")\n",
    "    subject: str = Field(description=\"메일 제목\")\n",
    "    summary: str = Field(description=\"메일 본문을 요약한 텍스트\")\n",
    "    date: str = Field(description=\"메일 본문에 언급된 미팅 날짜와 시간\")\n",
    "\n",
    "# PydanticOutputParser 생성\n",
    "parser = PydanticOutputParser(pydantic_object=EmailSummary)\n",
    "print(parser.get_format_instructions())"
   ]
  },
  {
   "cell_type": "markdown",
   "id": "7ff372c9",
   "metadata": {},
   "source": [
    "실제 결과를 살펴보게 되면, LLM에 어떤 지정을 하는 것이 아니라, Prompt에 강제로 내가 원하는 Format 출력을 도와주도록 추가하는 행위 이다."
   ]
  },
  {
   "cell_type": "code",
   "execution_count": 34,
   "id": "af48bee9",
   "metadata": {},
   "outputs": [
    {
     "name": "stdout",
     "output_type": "stream",
     "text": [
      "이메일에서 중요한 내용은 다음과 같습니다:\n",
      "\n",
      "1. **발신자 정보**  \n",
      "   - 이름: 김철수  \n",
      "   - 직책: 바이크코퍼레이션 상무이사  \n",
      "   - 이메일: chulsoo.kim@bikecorporation.me  \n",
      "\n",
      "2. **수신자 정보**  \n",
      "   - 이름: 이은채  \n",
      "   - 직책: TEDDY INTERNATIONAL 대리  \n",
      "   - 이메일: eunchae@teddyinternational.me  \n",
      "\n",
      "3. **주제**  \n",
      "   - \"ZENESIS\" 자전거 유통 협력 및 미팅 일정 제안  \n",
      "\n",
      "4. **핵심 요청**  \n",
      "   - TEDDY INTERNATIONAL의 신규 자전거 **ZENESIS**에 대한 **상세 브로슈어** 요청  \n",
      "     - 주요 정보: **기술 사양**, **배터리 성능**, **디자인 사항**  \n",
      "\n",
      "5. **협력 논의를 위한 미팅 제안**  \n",
      "   - 일정: **다음 주 화요일(1월 15일) 오전 10시**  \n",
      "   - 장소: TEDDY INTERNATIONAL 사무실  \n",
      "   - 목적: 유통 전략 및 마케팅 계획 논의  \n",
      "\n",
      "6. **회사 소개**  \n",
      "   - 바이크코퍼레이션은 자전거 제조 및 유통 분야에서 **혁신과 품질**을 선도하는 기업으로, **장기적인 경험과 전문성**을 강조.  \n",
      "\n",
      "이 정보는 협력 제안의 핵심 포인트를 간결하게 요약한 것입니다.\n"
     ]
    }
   ],
   "source": [
    "prompt = PromptTemplate.from_template(\n",
    "    \"\"\"\n",
    "You are a helpful assistant. Please answer the following questions in KOREAN.\n",
    "\n",
    "QUESTION:\n",
    "{question}\n",
    "\n",
    "EMAIL CONVERSATION:\n",
    "{email_conversation}\n",
    "\n",
    "FORMAT:\n",
    "{format}\n",
    "\"\"\"\n",
    ")\n",
    "\n",
    "# format 에 PydanticOutputParser의 부분 포맷팅(partial) 추가\n",
    "prompt = prompt.partial(format=parser.get_format_instructions())\n",
    "\n",
    "# chain 을 생성합니다.\n",
    "chain = prompt | model\n",
    "\n",
    "# chain 을 실행하고 결과를 출력합니다.\n",
    "response = chain.invoke(\n",
    "    {\n",
    "        \"email_conversation\": email_conversation,\n",
    "        \"question\": \"이메일 내용중 주요 내용을 추출해 주세요.\",\n",
    "    }\n",
    ")\n",
    "\n",
    "print(answer.content.split(\"</think>\\n\\n\")[1])"
   ]
  },
  {
   "cell_type": "markdown",
   "id": "54897c5e",
   "metadata": {},
   "source": [
    "위의 결과를 확인하게 되면, Prompt에 Format을 제한하여도 잘 작동하지 않는 걸 알 수 있다. LLM Model별로 Output은 다양할 것이며, 반드시 해당 Output으로 제한 할 수 없는 것을 알 수 있다."
   ]
  },
  {
   "cell_type": "code",
   "execution_count": null,
   "id": "ddb7318b",
   "metadata": {},
   "outputs": [],
   "source": []
  },
  {
   "cell_type": "code",
   "execution_count": null,
   "id": "9adc9075",
   "metadata": {},
   "outputs": [],
   "source": []
  },
  {
   "cell_type": "code",
   "execution_count": null,
   "id": "608b835e",
   "metadata": {},
   "outputs": [],
   "source": []
  },
  {
   "cell_type": "markdown",
   "id": "1c789c82",
   "metadata": {},
   "source": [
    "<hr>\n",
    "참조: <a href=\"https://wikidocs.net/book/14314\">LangChain 위키독스</a><br>\n",
    "참조: <a href=\"https://github.com/wjddyd66/LLM/tree/main\">원본 코드</a><br>\n",
    "\n",
    "코드에 문제가 있거나 궁금한 점이 있으면 wjddyd66@naver.com으로  Mail을 남겨주세요."
   ]
  }
 ],
 "metadata": {
  "kernelspec": {
   "display_name": "LLM",
   "language": "python",
   "name": "python3"
  },
  "language_info": {
   "codemirror_mode": {
    "name": "ipython",
    "version": 3
   },
   "file_extension": ".py",
   "mimetype": "text/x-python",
   "name": "python",
   "nbconvert_exporter": "python",
   "pygments_lexer": "ipython3",
   "version": "3.12.11"
  }
 },
 "nbformat": 4,
 "nbformat_minor": 5
}
