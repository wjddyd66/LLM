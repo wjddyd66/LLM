{
 "cells": [
  {
   "cell_type": "markdown",
   "id": "c4ad5951",
   "metadata": {},
   "source": [
    "---\n",
    "layout: post\n",
    "title:  \"Ch02.Prompt\"\n",
    "date:   2015-06-26 02:00:00 +0700\n",
    "categories: [LLM]\n",
    "---\n",
    "\n",
    "<script type=\"text/x-mathjax-config\">\n",
    "MathJax.Hub.Config({tex2jax: {inlineMath: [['$','$'], ['\\\\(','\\\\)']]}});\n",
    "</script>\n",
    "<script type=\"text/javascript\" src=\"https://cdn.mathjax.org/mathjax/latest/MathJax.js?config=TeX-MML-AM_CHTML\">\n",
    "</script>\n",
    "\n",
    "### 참조 사이트.\n",
    "해당 Post는 <a href=\"https://wikidocs.net/book/14314\">LangChain 위키독스</a>에 나와있는 예제와 흐름을 파악하는 용도 입니다.  "
   ]
  },
  {
   "cell_type": "markdown",
   "id": "e3ce5a82",
   "metadata": {},
   "source": [
    "### Prompt\n",
    "\n",
    "LLM의 Input으로 들어가게 되는 Prompt에 대해 자세히 알아본다.\n",
    "\n",
    "Prompt란 아래와 같이 정의하고 있다.\n",
    "\n",
    ">프롬프트 단계는 검색기에서 검색된 문서들을 바탕으로 **언어 모델이 사용할 질문이나 명령을 생성하는 과정**입니다. 이 단계는 **검색된 정보를 바탕**으로 최종 사용자의 질문에 가장 잘 대응할 수 있는 응답을 생성하기 위해 필수적인 단계입니다.\n",
    "\n",
    "Prompt는 아래와 같은 필요성을 가지고 있다.\n",
    "- 문맥(Context) 설정: LLM에 추가적인 정보를 전달함으로서 할루시네이션을 줄이는 역할로 사용 가능하다.\n",
    "- 정보 통합: 서로 다른 여러 정보를 하나로 합쳐 정보를 전달 할 수 있다.\n",
    "- 응답 품질 향상: RAG에서 많이 사용되는 방법으로서, 도움이 되는 Context를 선택하여 전달 할 수 있다.\n",
    "\n",
    "기본적인 RAG에서 많이 사용되는 구조는 아래와 같다.\n",
    "- Instruction: 지시사항으로서, LLM에 어떤 역할로서 답변을 얻어낼지 지정한다.\n",
    "- Question: 사용자의 질문을 전달한다.\n",
    "- Context: RAG로서 검색된 정보를 전달한다. 답변생성에 있어서 할루시네이션을 줄이는 역할을 한다.\n",
    "\n",
    "기본적인 RAG의 Prompt를 확인하면 아래와 같다.\n",
    "\n",
    "```python\n",
    "당신은 질문-답변(Question-Answer) Task 를 수행한는 AI 어시스턴트 입니다.\n",
    "검색된 문맥(context)를 사용하여 질문(question)에 답하세요. \n",
    "만약, 문맥(context) 으로부터 답을 찾을 수 없다면 '모른다' 고 말하세요. \n",
    "한국어로 대답하세요.\n",
    "\n",
    "#Question: \n",
    "{이곳에 사용자가 입력한 질문이 삽입됩니다}\n",
    "\n",
    "#Context: \n",
    "{이곳에 검색된 정보가 삽입됩니다}\n",
    "```"
   ]
  },
  {
   "cell_type": "markdown",
   "id": "3f218e74",
   "metadata": {},
   "source": [
    "### Setting"
   ]
  },
  {
   "cell_type": "markdown",
   "id": "a182e24a",
   "metadata": {},
   "source": [
    "#### Import Library"
   ]
  },
  {
   "cell_type": "code",
   "execution_count": 2,
   "id": "01cf379f",
   "metadata": {},
   "outputs": [],
   "source": [
    "import yaml\n",
    "from typing import List\n",
    "from pathlib import Path\n",
    "from datetime import datetime\n",
    "\n",
    "from langchain_openai import ChatOpenAI\n",
    "from langchain.embeddings.base import Embeddings\n",
    "from langchain_community.vectorstores import FAISS\n",
    "from langchain.schema import HumanMessage, AIMessage\n",
    "from langchain_core.prompts.few_shot import FewShotPromptTemplate\n",
    "from langchain_core.prompts import PromptTemplate, ChatPromptTemplate, MessagesPlaceholder, load_prompt\n",
    "from langchain_core.output_parsers import StrOutputParser"
   ]
  },
  {
   "cell_type": "markdown",
   "id": "27c28aba",
   "metadata": {},
   "source": [
    "#### Model 선언"
   ]
  },
  {
   "cell_type": "code",
   "execution_count": 3,
   "id": "2c54d652",
   "metadata": {},
   "outputs": [],
   "source": [
    "model = ChatOpenAI(\n",
    "    base_url=\"http://localhost:8000/v1\",\n",
    "    api_key=\"EMPTY\",\n",
    "    model=\"Qwen/Qwen3-4B\"\n",
    ")"
   ]
  },
  {
   "cell_type": "markdown",
   "id": "fbcde33d",
   "metadata": {},
   "source": [
    "#### 사용할 Prompt 저장.\n",
    "\n",
    "사용할 Prompt를 미리 지정하여 저장한다.\n",
    "\n",
    "Appendix: OpenAI에서 제공하는 default prompt가 있으나, 실제 해당 값과 동일하게 저장하고 불러와서 확인하다."
   ]
  },
  {
   "cell_type": "markdown",
   "id": "a150effc",
   "metadata": {},
   "source": [
    "fruit_color.yaml"
   ]
  },
  {
   "cell_type": "code",
   "execution_count": 4,
   "id": "44e774a6",
   "metadata": {},
   "outputs": [],
   "source": [
    "prompt_data = {\n",
    "    \"_type\": \"prompt\",\n",
    "    \"input_variables\": [\"fruit\"],\n",
    "    \"template\": \"What color is a {fruit}?\"\n",
    "}\n",
    "\n",
    "Path(\"prompts\").mkdir(exist_ok=True)\n",
    "with open(\"./data/fruit_color.yaml\", \"w\", encoding=\"utf-8\") as f:\n",
    "    yaml.dump(prompt_data, f, allow_unicode=True)"
   ]
  },
  {
   "cell_type": "markdown",
   "id": "d319ce65",
   "metadata": {},
   "source": [
    "load_prompt로 불러와서 확인"
   ]
  },
  {
   "cell_type": "code",
   "execution_count": 5,
   "id": "93adc653",
   "metadata": {},
   "outputs": [
    {
     "name": "stdout",
     "output_type": "stream",
     "text": [
      "input_variables=['fruit'] input_types={} partial_variables={} template='What color is a {fruit}?'\n"
     ]
    }
   ],
   "source": [
    "prompt = load_prompt(\"./data/fruit_color.yaml\")\n",
    "print(prompt)"
   ]
  },
  {
   "cell_type": "markdown",
   "id": "4dff9497",
   "metadata": {},
   "source": [
    "실제 load_prompt를 확인하게 되면, 아래와 같이 type이 **langchain_core.prompts.prompt.PromptTemplate**인 것을 확인할 수 있다.  \n",
    "위와 같이 바뀌는 이유는 LangChain인 내부에서 _type을 확인하고 자동으로 Mapping하여 가져오기 때문이다.\n",
    "\n",
    "```python\n",
    "if _type == \"prompt\":\n",
    "    return PromptTemplate(...)\n",
    "```"
   ]
  },
  {
   "cell_type": "code",
   "execution_count": 6,
   "id": "15d536fe",
   "metadata": {},
   "outputs": [
    {
     "data": {
      "text/plain": [
       "langchain_core.prompts.prompt.PromptTemplate"
      ]
     },
     "execution_count": 6,
     "metadata": {},
     "output_type": "execute_result"
    }
   ],
   "source": [
    "type(prompt)"
   ]
  },
  {
   "cell_type": "markdown",
   "id": "f3f6fab6",
   "metadata": {},
   "source": [
    "### Prompt Template\n",
    "\n",
    "#### 방법 1. from_template() 메소드를 사용하여 PrompteTemplate 객체를 생성"
   ]
  },
  {
   "cell_type": "code",
   "execution_count": null,
   "id": "10858061",
   "metadata": {},
   "outputs": [
    {
     "name": "stdout",
     "output_type": "stream",
     "text": [
      "<class 'langchain_core.prompts.prompt.PromptTemplate'>\n",
      "input_variables=['country'] input_types={} partial_variables={} template='{country}의 수도는 어디인가요?'\n"
     ]
    },
    {
     "data": {
      "text/plain": [
       "\"<think>\\nOkay, the user is asking about the capital of South Korea. I need to make sure I provide the correct answer. Let me recall, I think it's Seoul. But wait, I should double-check. South Korea's capital is indeed Seoul. However, I should also mention that the administrative capital is Seoul, and there's a new administrative capital called Gwangju, but I think that's not yet completed. Wait, no, actually, I think the new capital is called Incheon, but that's not right. Wait, no, the new administrative capital is called Gwangju, but it's not fully operational yet. Wait, I'm getting confused here.\\n\\nWait, the capital of South Korea is Seoul. The new administrative capital is called Gwangju, but it's still under construction. So the current capital is Seoul. I should clarify that. Also, sometimes people might confuse the capital with the administrative capital, but in this case, Seoul is the capital. Let me confirm. Yes, according to my knowledge, Seoul is the capital of South Korea. The new administrative capital is being developed in Gwangju, but it's not yet a city. So the answer should be Seoul. I should state that clearly and maybe mention the new administrative capital as a separate point to avoid confusion.\\n</think>\\n\\n대한민국의 수도는 **서울**입니다.  \\n서울은 대한민국의 행정 중심지로, 국가의 정치, 경제, 문화, 교육 등 다양한 기관이 집중되어 있습니다.  \\n\\n또한, 2020년에 공식적으로 개정된 **행정수도법**에 따라, 서울을 중심으로 한 **서울-인천-경기**의 3자 지역이 행정수도 구역으로 지정되었고, 2024년 12월부터 **서울을 중심으로 한 행정수도 구역**이 운영되며, **인천**이 행정수도로서의 역할을 강화하고 있습니다.  \\n\\n하지만, 현재의 **수도**는 여전히 **서울**입니다.  \\n(참고: 2024년 12월부터 인천이 행정수도로서의 역할을 시작하지만, 수도로의 정식 지위는 여전히 서울입니다.)\""
      ]
     },
     "execution_count": 7,
     "metadata": {},
     "output_type": "execute_result"
    }
   ],
   "source": [
    "# template 정의. {country}는 변수로, 이후에 값이 들어갈 자리를 의미\n",
    "template = \"{country}의 수도는 어디인가요?\"\n",
    "\n",
    "# from_template 메소드를 이용하여 PromptTemplate 객체 생성\n",
    "prompt = PromptTemplate.from_template(template)\n",
    "print(type(prompt))\n",
    "print(prompt)\n",
    "\n",
    "# chain 생성\n",
    "chain = prompt | model\n",
    "\n",
    "# country 변수에 입력된 값이 자동으로 치환되어 수행됨\n",
    "chain.invoke(\"대한민국\").content.split('</think>\\n\\n')[1]"
   ]
  },
  {
   "cell_type": "markdown",
   "id": "d54d1e9a",
   "metadata": {},
   "source": [
    "#### 방법 2. PromptTemplate 객체 생성과 동시에 prompt 생성\n",
    "\n",
    "input_variables를 사용하여, PromptTemplate를 생성한다.\n",
    "\n",
    "**appendix: number of input_variables**: input_variables가 1개인 경우에는 invoke의 값이 자동으로 귿어가게 된다.  \n",
    "하지만, 2개 이상인 경우에는 dictionary 형태로 전달해야 LLM에 Input으로 사용할 수 있다."
   ]
  },
  {
   "cell_type": "markdown",
   "id": "ed3c2876",
   "metadata": {},
   "source": [
    "input_variables가 1개인 경우."
   ]
  },
  {
   "cell_type": "code",
   "execution_count": null,
   "id": "1972a80d",
   "metadata": {},
   "outputs": [
    {
     "name": "stdout",
     "output_type": "stream",
     "text": [
      "<class 'langchain_core.prompts.prompt.PromptTemplate'>\n",
      "input_variables=['country'] input_types={} partial_variables={} template='{country}의 수도는 어디인가요?'\n"
     ]
    },
    {
     "data": {
      "text/plain": [
       "\"<think>\\nOkay, the user is asking for the capital of South Korea. I know that the capital is Seoul, but I should make sure I'm correct. Let me think... Yes, Seoul is the capital city of the Republic of Korea. It's also the largest city in the country. I should confirm that there's no confusion with other cities like Busan or Incheon. No, those are major cities but not the capital. So the answer is Seoul. I should present that clearly and maybe add a bit more info if needed, like its status as the political, cultural, and economic center. But the question is straightforward, so keeping it simple is better.\\n</think>\\n\\n대한민국의 수도는 **서울**입니다.  \\n서울은 한국의 정치, 문화, 경제 중심지로, 국가의 정부 기관과 주요 문화 시설이 집중되어 있습니다. 또한 한국의 가장 큰 도시이자 세계적으로 유명한 도시로 알려져 있습니다.\""
      ]
     },
     "execution_count": 8,
     "metadata": {},
     "output_type": "execute_result"
    }
   ],
   "source": [
    "# template 정의\n",
    "template = \"{country}의 수도는 어디인가요?\"\n",
    "\n",
    "# PromptTemplate 객체를 활용하여 prompt_template 생성\n",
    "prompt = PromptTemplate(\n",
    "    template=template,\n",
    "    input_variables=[\"country\"],\n",
    ")\n",
    "\n",
    "print(type(prompt))\n",
    "print(prompt)\n",
    "\n",
    "# chain 생성\n",
    "chain = prompt | model\n",
    "\n",
    "# country 변수에 입력된 값이 자동으로 치환되어 수행됨\n",
    "chain.invoke(\"대한민국\").content.split('</think>\\n\\n')[1]"
   ]
  },
  {
   "cell_type": "markdown",
   "id": "c4cc4c2f",
   "metadata": {},
   "source": [
    "input_variables가 2개인 경우"
   ]
  },
  {
   "cell_type": "code",
   "execution_count": null,
   "id": "9d5d092b",
   "metadata": {},
   "outputs": [
    {
     "ename": "TypeError",
     "evalue": "Expected mapping type as input to PromptTemplate. Received <class 'str'>.\nFor troubleshooting, visit: https://python.langchain.com/docs/troubleshooting/errors/INVALID_PROMPT_INPUT ",
     "output_type": "error",
     "traceback": [
      "\u001b[31m---------------------------------------------------------------------------\u001b[39m",
      "\u001b[31mTypeError\u001b[39m                                 Traceback (most recent call last)",
      "\u001b[36mCell\u001b[39m\u001b[36m \u001b[39m\u001b[32mIn[9]\u001b[39m\u001b[32m, line 10\u001b[39m\n\u001b[32m      7\u001b[39m chain = prompt | model\n\u001b[32m      9\u001b[39m \u001b[38;5;66;03m# country 변수에 입력된 값이 자동으로 치환되어 수행됨\u001b[39;00m\n\u001b[32m---> \u001b[39m\u001b[32m10\u001b[39m \u001b[43mchain\u001b[49m\u001b[43m.\u001b[49m\u001b[43minvoke\u001b[49m\u001b[43m(\u001b[49m\u001b[33;43m\"\u001b[39;49m\u001b[33;43m대한민국\u001b[39;49m\u001b[33;43m\"\u001b[39;49m\u001b[43m)\u001b[49m.content\n",
      "\u001b[36mFile \u001b[39m\u001b[32md:\\Anaconda\\envs\\LLM\\Lib\\site-packages\\langchain_core\\runnables\\base.py:3045\u001b[39m, in \u001b[36mRunnableSequence.invoke\u001b[39m\u001b[34m(self, input, config, **kwargs)\u001b[39m\n\u001b[32m   3043\u001b[39m \u001b[38;5;28;01mwith\u001b[39;00m set_config_context(config) \u001b[38;5;28;01mas\u001b[39;00m context:\n\u001b[32m   3044\u001b[39m     \u001b[38;5;28;01mif\u001b[39;00m i == \u001b[32m0\u001b[39m:\n\u001b[32m-> \u001b[39m\u001b[32m3045\u001b[39m         input_ = \u001b[43mcontext\u001b[49m\u001b[43m.\u001b[49m\u001b[43mrun\u001b[49m\u001b[43m(\u001b[49m\u001b[43mstep\u001b[49m\u001b[43m.\u001b[49m\u001b[43minvoke\u001b[49m\u001b[43m,\u001b[49m\u001b[43m \u001b[49m\u001b[43minput_\u001b[49m\u001b[43m,\u001b[49m\u001b[43m \u001b[49m\u001b[43mconfig\u001b[49m\u001b[43m,\u001b[49m\u001b[43m \u001b[49m\u001b[43m*\u001b[49m\u001b[43m*\u001b[49m\u001b[43mkwargs\u001b[49m\u001b[43m)\u001b[49m\n\u001b[32m   3046\u001b[39m     \u001b[38;5;28;01melse\u001b[39;00m:\n\u001b[32m   3047\u001b[39m         input_ = context.run(step.invoke, input_, config)\n",
      "\u001b[36mFile \u001b[39m\u001b[32md:\\Anaconda\\envs\\LLM\\Lib\\site-packages\\langchain_core\\prompts\\base.py:216\u001b[39m, in \u001b[36mBasePromptTemplate.invoke\u001b[39m\u001b[34m(self, input, config, **kwargs)\u001b[39m\n\u001b[32m    214\u001b[39m \u001b[38;5;28;01mif\u001b[39;00m \u001b[38;5;28mself\u001b[39m.tags:\n\u001b[32m    215\u001b[39m     config[\u001b[33m\"\u001b[39m\u001b[33mtags\u001b[39m\u001b[33m\"\u001b[39m] = config[\u001b[33m\"\u001b[39m\u001b[33mtags\u001b[39m\u001b[33m\"\u001b[39m] + \u001b[38;5;28mself\u001b[39m.tags\n\u001b[32m--> \u001b[39m\u001b[32m216\u001b[39m \u001b[38;5;28;01mreturn\u001b[39;00m \u001b[38;5;28;43mself\u001b[39;49m\u001b[43m.\u001b[49m\u001b[43m_call_with_config\u001b[49m\u001b[43m(\u001b[49m\n\u001b[32m    217\u001b[39m \u001b[43m    \u001b[49m\u001b[38;5;28;43mself\u001b[39;49m\u001b[43m.\u001b[49m\u001b[43m_format_prompt_with_error_handling\u001b[49m\u001b[43m,\u001b[49m\n\u001b[32m    218\u001b[39m \u001b[43m    \u001b[49m\u001b[38;5;28;43minput\u001b[39;49m\u001b[43m,\u001b[49m\n\u001b[32m    219\u001b[39m \u001b[43m    \u001b[49m\u001b[43mconfig\u001b[49m\u001b[43m,\u001b[49m\n\u001b[32m    220\u001b[39m \u001b[43m    \u001b[49m\u001b[43mrun_type\u001b[49m\u001b[43m=\u001b[49m\u001b[33;43m\"\u001b[39;49m\u001b[33;43mprompt\u001b[39;49m\u001b[33;43m\"\u001b[39;49m\u001b[43m,\u001b[49m\n\u001b[32m    221\u001b[39m \u001b[43m    \u001b[49m\u001b[43mserialized\u001b[49m\u001b[43m=\u001b[49m\u001b[38;5;28;43mself\u001b[39;49m\u001b[43m.\u001b[49m\u001b[43m_serialized\u001b[49m\u001b[43m,\u001b[49m\n\u001b[32m    222\u001b[39m \u001b[43m\u001b[49m\u001b[43m)\u001b[49m\n",
      "\u001b[36mFile \u001b[39m\u001b[32md:\\Anaconda\\envs\\LLM\\Lib\\site-packages\\langchain_core\\runnables\\base.py:1940\u001b[39m, in \u001b[36mRunnable._call_with_config\u001b[39m\u001b[34m(self, func, input_, config, run_type, serialized, **kwargs)\u001b[39m\n\u001b[32m   1936\u001b[39m     child_config = patch_config(config, callbacks=run_manager.get_child())\n\u001b[32m   1937\u001b[39m     \u001b[38;5;28;01mwith\u001b[39;00m set_config_context(child_config) \u001b[38;5;28;01mas\u001b[39;00m context:\n\u001b[32m   1938\u001b[39m         output = cast(\n\u001b[32m   1939\u001b[39m             \u001b[33m\"\u001b[39m\u001b[33mOutput\u001b[39m\u001b[33m\"\u001b[39m,\n\u001b[32m-> \u001b[39m\u001b[32m1940\u001b[39m             \u001b[43mcontext\u001b[49m\u001b[43m.\u001b[49m\u001b[43mrun\u001b[49m\u001b[43m(\u001b[49m\n\u001b[32m   1941\u001b[39m \u001b[43m                \u001b[49m\u001b[43mcall_func_with_variable_args\u001b[49m\u001b[43m,\u001b[49m\u001b[43m  \u001b[49m\u001b[38;5;66;43;03m# type: ignore[arg-type]\u001b[39;49;00m\n\u001b[32m   1942\u001b[39m \u001b[43m                \u001b[49m\u001b[43mfunc\u001b[49m\u001b[43m,\u001b[49m\n\u001b[32m   1943\u001b[39m \u001b[43m                \u001b[49m\u001b[43minput_\u001b[49m\u001b[43m,\u001b[49m\n\u001b[32m   1944\u001b[39m \u001b[43m                \u001b[49m\u001b[43mconfig\u001b[49m\u001b[43m,\u001b[49m\n\u001b[32m   1945\u001b[39m \u001b[43m                \u001b[49m\u001b[43mrun_manager\u001b[49m\u001b[43m,\u001b[49m\n\u001b[32m   1946\u001b[39m \u001b[43m                \u001b[49m\u001b[43m*\u001b[49m\u001b[43m*\u001b[49m\u001b[43mkwargs\u001b[49m\u001b[43m,\u001b[49m\n\u001b[32m   1947\u001b[39m \u001b[43m            \u001b[49m\u001b[43m)\u001b[49m,\n\u001b[32m   1948\u001b[39m         )\n\u001b[32m   1949\u001b[39m \u001b[38;5;28;01mexcept\u001b[39;00m \u001b[38;5;167;01mBaseException\u001b[39;00m \u001b[38;5;28;01mas\u001b[39;00m e:\n\u001b[32m   1950\u001b[39m     run_manager.on_chain_error(e)\n",
      "\u001b[36mFile \u001b[39m\u001b[32md:\\Anaconda\\envs\\LLM\\Lib\\site-packages\\langchain_core\\runnables\\config.py:428\u001b[39m, in \u001b[36mcall_func_with_variable_args\u001b[39m\u001b[34m(func, input, config, run_manager, **kwargs)\u001b[39m\n\u001b[32m    426\u001b[39m \u001b[38;5;28;01mif\u001b[39;00m run_manager \u001b[38;5;129;01mis\u001b[39;00m \u001b[38;5;129;01mnot\u001b[39;00m \u001b[38;5;28;01mNone\u001b[39;00m \u001b[38;5;129;01mand\u001b[39;00m accepts_run_manager(func):\n\u001b[32m    427\u001b[39m     kwargs[\u001b[33m\"\u001b[39m\u001b[33mrun_manager\u001b[39m\u001b[33m\"\u001b[39m] = run_manager\n\u001b[32m--> \u001b[39m\u001b[32m428\u001b[39m \u001b[38;5;28;01mreturn\u001b[39;00m \u001b[43mfunc\u001b[49m\u001b[43m(\u001b[49m\u001b[38;5;28;43minput\u001b[39;49m\u001b[43m,\u001b[49m\u001b[43m \u001b[49m\u001b[43m*\u001b[49m\u001b[43m*\u001b[49m\u001b[43mkwargs\u001b[49m\u001b[43m)\u001b[49m\n",
      "\u001b[36mFile \u001b[39m\u001b[32md:\\Anaconda\\envs\\LLM\\Lib\\site-packages\\langchain_core\\prompts\\base.py:189\u001b[39m, in \u001b[36mBasePromptTemplate._format_prompt_with_error_handling\u001b[39m\u001b[34m(self, inner_input)\u001b[39m\n\u001b[32m    188\u001b[39m \u001b[38;5;28;01mdef\u001b[39;00m\u001b[38;5;250m \u001b[39m\u001b[34m_format_prompt_with_error_handling\u001b[39m(\u001b[38;5;28mself\u001b[39m, inner_input: \u001b[38;5;28mdict\u001b[39m) -> PromptValue:\n\u001b[32m--> \u001b[39m\u001b[32m189\u001b[39m     _inner_input = \u001b[38;5;28;43mself\u001b[39;49m\u001b[43m.\u001b[49m\u001b[43m_validate_input\u001b[49m\u001b[43m(\u001b[49m\u001b[43minner_input\u001b[49m\u001b[43m)\u001b[49m\n\u001b[32m    190\u001b[39m     \u001b[38;5;28;01mreturn\u001b[39;00m \u001b[38;5;28mself\u001b[39m.format_prompt(**_inner_input)\n",
      "\u001b[36mFile \u001b[39m\u001b[32md:\\Anaconda\\envs\\LLM\\Lib\\site-packages\\langchain_core\\prompts\\base.py:165\u001b[39m, in \u001b[36mBasePromptTemplate._validate_input\u001b[39m\u001b[34m(self, inner_input)\u001b[39m\n\u001b[32m    160\u001b[39m     \u001b[38;5;28;01melse\u001b[39;00m:\n\u001b[32m    161\u001b[39m         msg = (\n\u001b[32m    162\u001b[39m             \u001b[33mf\u001b[39m\u001b[33m\"\u001b[39m\u001b[33mExpected mapping type as input to \u001b[39m\u001b[38;5;132;01m{\u001b[39;00m\u001b[38;5;28mself\u001b[39m.\u001b[34m__class__\u001b[39m.\u001b[34m__name__\u001b[39m\u001b[38;5;132;01m}\u001b[39;00m\u001b[33m. \u001b[39m\u001b[33m\"\u001b[39m\n\u001b[32m    163\u001b[39m             \u001b[33mf\u001b[39m\u001b[33m\"\u001b[39m\u001b[33mReceived \u001b[39m\u001b[38;5;132;01m{\u001b[39;00m\u001b[38;5;28mtype\u001b[39m(inner_input)\u001b[38;5;132;01m}\u001b[39;00m\u001b[33m.\u001b[39m\u001b[33m\"\u001b[39m\n\u001b[32m    164\u001b[39m         )\n\u001b[32m--> \u001b[39m\u001b[32m165\u001b[39m         \u001b[38;5;28;01mraise\u001b[39;00m \u001b[38;5;167;01mTypeError\u001b[39;00m(\n\u001b[32m    166\u001b[39m             create_message(\n\u001b[32m    167\u001b[39m                 message=msg, error_code=ErrorCode.INVALID_PROMPT_INPUT\n\u001b[32m    168\u001b[39m             )\n\u001b[32m    169\u001b[39m         )\n\u001b[32m    170\u001b[39m missing = \u001b[38;5;28mset\u001b[39m(\u001b[38;5;28mself\u001b[39m.input_variables).difference(inner_input)\n\u001b[32m    171\u001b[39m \u001b[38;5;28;01mif\u001b[39;00m missing:\n",
      "\u001b[31mTypeError\u001b[39m: Expected mapping type as input to PromptTemplate. Received <class 'str'>.\nFor troubleshooting, visit: https://python.langchain.com/docs/troubleshooting/errors/INVALID_PROMPT_INPUT "
     ]
    }
   ],
   "source": [
    "prompt = PromptTemplate(\n",
    "    template=\"{country1}과 {country2}의 수도는 각각 어디인가요?\",\n",
    "    input_variables=[\"country1\", \"country2\"],\n",
    ")\n",
    "\n",
    "# chain 생성\n",
    "chain = prompt | model\n",
    "\n",
    "# country 변수에 입력된 값이 자동으로 치환되어 수행됨\n",
    "chain.invoke(\"대한민국\").content.split('</think>\\n\\n')[1]"
   ]
  },
  {
   "cell_type": "code",
   "execution_count": null,
   "id": "10fd4a5e",
   "metadata": {},
   "outputs": [],
   "source": [
    "bb"
   ]
  },
  {
   "cell_type": "code",
   "execution_count": null,
   "id": "d3794300",
   "metadata": {},
   "outputs": [
    {
     "data": {
      "text/plain": [
       "\"<think>\\nOkay, the user is asking about the capitals of South Korea and Japan. Let me start by recalling the information. South Korea's capital is Seoul, right? I remember that Seoul is a major city and the political, economic, and cultural center of the country. Now, for Japan, I think the capital is Tokyo. But wait, I should make sure I'm not mixing up any details. Sometimes people might confuse Tokyo with Kyoto, which is the former capital, but currently, Tokyo is the capital. Let me double-check that. Yes, Japan's capital is indeed Tokyo. So the answer should be Seoul for South Korea and Tokyo for Japan. I should present that clearly and maybe add a bit more context to confirm the accuracy.\\n</think>\\n\\n대한민국(한국)의 수도는 **서울**이고, 일본의 수도는 **도쿄**입니다.  \\n- **서울**은 한국의 정치, 경제, 문화 중심지로, 1948년부터 공식적인 수도로 지정되었습니다.  \\n- **도쿄**는 일본의 정치, 경제, 문화 중심지로, 1868년 메이지 시대 이후 공식적인 수도로 지정되었습니다.  \\n\\n이 두 도시는 각국의 역사적, 문화적 중요성을 상징하는 중심지입니다.\""
      ]
     },
     "execution_count": 10,
     "metadata": {},
     "output_type": "execute_result"
    }
   ],
   "source": [
    "chain.invoke({\"country1\": \"대한민국\", \"country2\": \"일본\"}).content.split('</think>\\n\\n')[1]"
   ]
  },
  {
   "cell_type": "markdown",
   "id": "f2195087",
   "metadata": {},
   "source": [
    "partital_variables를 사용하여, dictionary형태로 input value와 default value를 적용할 수 있다."
   ]
  },
  {
   "cell_type": "code",
   "execution_count": null,
   "id": "141e3ae5",
   "metadata": {},
   "outputs": [
    {
     "name": "stdout",
     "output_type": "stream",
     "text": [
      "<class 'langchain_core.prompts.prompt.PromptTemplate'>\n",
      "input_variables=['country1'] input_types={} partial_variables={'country2': '미국'} template='{country1}과 {country2}의 수도는 각각 어디인가요?'\n"
     ]
    },
    {
     "data": {
      "text/plain": [
       "\"<think>\\nOkay, the user is asking for the capital cities of South Korea and the United States. Let me start by recalling the capitals. South Korea's capital is Seoul, right? I think that's correct. And the United States' capital is Washington, D.C. Wait, I should make sure I'm not mixing up any details. Sometimes people confuse Washington, D.C. with other cities like New York or Washington State. But no, the capital of the U.S. is definitely Washington, D.C. Let me double-check that. Yeah, Washington, D.C. is the capital, even though it's not a state. South Korea's capital is Seoul, which is also the largest city in the country. I don't think there's any confusion there. So the answer should be Seoul for South Korea and Washington, D.C. for the U.S. I should present that clearly.\\n</think>\\n\\n대한민국의 수도는 **서울**이며, 미국의 수도는 **워싱턴 D.C.**(Washington, D.C.)입니다.  \\n- **서울**은 대한민국의 정치, 경제, 문화 중심지로, 국가의 주요 기관이 집중되어 있습니다.  \\n- **워싱턴 D.C.**는 미국의 정부 기관(예: 미국 정부청사, 국회, 대통령 주거지)이 위치한 도시로, 미국의 정치 중심지입니다.  \\n\\n이 두 도시는 각국의 정치적, 문화적 중심지로 중요한 역할을 합니다.\""
      ]
     },
     "execution_count": 11,
     "metadata": {},
     "output_type": "execute_result"
    }
   ],
   "source": [
    "# template 정의\n",
    "template = \"{country1}과 {country2}의 수도는 각각 어디인가요?\"\n",
    "\n",
    "# PromptTemplate 객체를 활용하여 prompt_template 생성\n",
    "prompt = PromptTemplate(\n",
    "    template=template,\n",
    "    input_variables=[\"country1\"],\n",
    "    partial_variables={\n",
    "        \"country2\": \"미국\"  # dictionary 형태로 partial_variables를 전달\n",
    "    },\n",
    ")\n",
    "\n",
    "print(type(prompt))\n",
    "print(prompt)\n",
    "\n",
    "# chain 생성\n",
    "chain = prompt | model\n",
    "\n",
    "# country1 변수에 입력된 값이 자동으로 치환되어 수행됨 (input_variables가 1개 이므로.)\n",
    "chain.invoke(\"대한민국\").content.split('</think>\\n\\n')[1]"
   ]
  },
  {
   "cell_type": "markdown",
   "id": "ef49e830",
   "metadata": {},
   "source": [
    "**partitial variables**: partital_varirables에는 함수(Callable)의 값을 넣을 수 있지만, input_variables에는 함수는 안됩니다. 반드시 입력값으로 직접 값을 전달하여야 합니다.\n",
    "\n",
    "partital variables에 함수값을 받는 대표적인 예시는 날짜를 반환하는 함수로서 사용법은 아래와 같습니다."
   ]
  },
  {
   "cell_type": "code",
   "execution_count": null,
   "id": "707fdc90",
   "metadata": {},
   "outputs": [
    {
     "data": {
      "text/plain": [
       "'<think>\\nOkay, the user is asking for three famous people who have their birthday on June 28th, along with their birth dates. Let me start by recalling some notable individuals born on that date.\\n\\nFirst, I remember that Madonna was born on June 28, 1958. She\\'s a major pop icon, so that\\'s a good one. Next, maybe someone from the music industry. I think Elton John was born on March 25, but wait, that\\'s not June 28. Maybe another artist? Oh, right, there\\'s a singer named John Legend, but I think he was born in 1985. Wait, no, his birthday is March 1. Hmm. Maybe I need to check another area.\\n\\nWait, there\\'s a famous person in the tech world. Steve Jobs was born on February 24, 1955, so that\\'s not right. How about someone in sports? Maybe a former athlete? I\\'m not sure. Wait, there\\'s a famous actor named Matthew McConaughey, but his birthday is May 22. Not helpful.\\n\\nWait, maybe I should think of other fields. Oh, there\\'s a famous musician named Bono from U2, but he was born on May 13. Not June 28. Maybe a scientist? I\\'m not sure. Wait, there\\'s a famous person named Sir Ian McKellen, but his birthday is April 25. Not matching.\\n\\nWait, I think I might have confused some dates. Let me think again. Madonna is definitely June 28, 1958. Then, maybe someone from the 20th century. Wait, there\\'s a famous person named Frank Langella, but I think he was born in 1938. Wait, no, his birthday is September 15. Hmm. \\n\\nWait, maybe someone in the entertainment industry. I remember that there\\'s a famous actor named Robert Downey Jr., but he was born in 1965. Wait, his birthday is August 9. Not June 28. \\n\\nWait, perhaps I need to check some other areas. Maybe a politician? I\\'m not sure. Alternatively, maybe a famous person in the world of literature or science. \\n\\nWait, I think I remember that there\\'s a famous person named Sir David Attenborough, but he was born in 1926. Not June 28. \\n\\nWait, maybe I\\'m missing someone. Let me think again. Oh, there\\'s a famous person named Sir Paul McCartney, but he was born in 1942. Not June 28. \\n\\nWait, maybe someone from the 1980s. Let me think. There\\'s a singer named Bette Midler, but she was born in 1939. Not June 28. \\n\\nHmm, this is tricky. Maybe I should check some famous people born on June 28. Wait, I think there\\'s a famous person named Sir Anthony Hopkins, but he was born in 1937. Not June 28. \\n\\nWait, I think I might be missing some names. Let me try to recall. Oh, there\\'s a famous person named John Travolta, but he was born in 1959. Wait, no, his birthday is June 28? Wait, no, I think he was born on June 28, 1959. Wait, is that right? Let me confirm. Yes, John Travolta was born on June 28, 1959. That\\'s correct. So that\\'s another one. \\n\\nThen, the third person. Maybe someone in the sports world. I think there\\'s a famous athlete born on June 28. Wait, there\\'s a famous tennis player, maybe? Or a soccer player? \\n\\nAlternatively, maybe a famous person in the entertainment industry. I think there\\'s a famous person named Sir Sean Connery, but he was born in 1930. Not June 28. \\n\\nWait, I think there\\'s a famous person named Sir Peter Ustinov, but he was born in 1927. Not June 28. \\n\\nWait, maybe someone from the 21st century. Let me think. There\\'s a famous person named Billie Eilish, but she was born in 1999. Her birthday is December 18. Not June 28. \\n\\nWait, maybe a famous person in the music industry. There\\'s a singer named Amy Winehouse, but she was born in 1983. Not June 28. \\n\\nHmm, maybe I need to check if there are three people. I have Madonna (1958), John Travolta (1959), and maybe another one. Wait, I think there\\'s a famous person named Sir Roger Moore, but he was born in 1927. Not June 28. \\n\\nWait, I think I might be missing someone. Let me think again. Oh, there\\'s a famous person named Sir Anthony Hopkins, but he was born in 1937. Not June 28. \\n\\nWait, maybe a famous person from the 1970s. I think there\\'s a singer named Elton John, but he was born in 1947. Not June 28. \\n\\nWait, I think I might have to accept that only two people are known, but the user asked for three. Maybe I need to check if there\\'s a third one. Alternatively, maybe I can include someone from a different field. \\n\\nWait, there\\'s a famous person named Sir Richard Branson, but he was born in 1950. Not June 28. \\n\\nWait, I think I need to verify. Let me try to recall. Maybe someone in the world of politics. I think there\\'s a famous person named Barack Obama, but he was born in 1961. Not June 28. \\n\\nWait, maybe a famous person in the world of science. I think there\\'s a famous scientist born on June 28. Wait, there\\'s a famous person named Stephen Hawking, but he was born in 1942. Not June 28. \\n\\nHmm, this is challenging. Maybe I should check if there\\'s a third person. Alternatively, maybe the user is okay with two, but the question says three. Let me think again. \\n\\nWait, I think there\\'s a famous person named Sir Ian McKellen, but he was born in 1946. Not June 28. \\n\\nWait, I think I might have to go with the two I have and see if there\\'s a third. Alternatively, maybe someone in the 20th century. Wait, there\\'s a famous person named Sir Peter Sellers, but he was born in 1925. Not June 28. \\n\\nAlternatively, maybe a famous person from the 1990s. I think there\\'s a famous person named Justin Timberlake, but he was born in 1986. Not June 28. \\n\\nWait, maybe I\\'m missing someone. Let me think of other fields. There\\'s a famous person in the world of sports. Maybe a famous athlete. I think there\\'s a famous person named Muhammad Ali, but he was born in 1942. Not June 28. \\n\\nHmm, I\\'m not finding a third person. Maybe I should check if there\\'s a famous person born on June 28, 1960. Wait, there\\'s a famous person named Sir Roger Moore, but he was born in 1927. Not June 28. \\n\\nAlternatively, maybe a famous person in the world of technology. I think there\\'s a famous person named Steve Jobs, but he was born in 1955. Not June 28. \\n\\nWait, maybe I should accept that only two people are known and mention that, but the user asked for three. Alternatively, maybe I can include someone like a famous person in the world of entertainment. \\n\\nWait, I think I might have to check if there\\'s a third person. Let me think again. Oh, there\\'s a famous person named Sir John Gielgud, but he was born in 1904. Not June 28. \\n\\nAlternatively, maybe a famous person in the world of music. I think there\\'s a famous person named Paul McCartney, but he was born in 1942. Not June 28. \\n\\nHmm, I think I might have to settle with the two I know and maybe include a third person who I might have forgotten. Wait, there\\'s a famous person named Sir David Attenborough, but he was born in 1926. Not June 28. \\n\\nWait, I think I might have to accept that there are not three famous people, but the user asked for three. Maybe I should check if there\\'s a third person. Alternatively, maybe the user is okay with two and the third is not as well-known. \\n\\nAlternatively, maybe there\\'s a famous person in the world of sports. I think there\\'s a famous person named Michael Jordan, but he was born in 1963. Not June 28. \\n\\nI think I\\'m stuck here. The two I have are Madonna (1958) and John Travolta (1959). Maybe there\\'s a third person from another field. Wait, there\\'s a famous person named Sir Anthony Hopkins, but he was born in 1937. Not June 28. \\n\\nAlternatively, maybe a famous person in the world of literature. I think there\\'s a famous person named Maya Angelou, but she was born in 1928. Not June 28. \\n\\nHmm, I think I\\'ll have to go with the two I know and maybe include a third person that I might have missed. Alternatively, maybe there\\'s a famous person in the world of technology. I think there\\'s a famous person named Bill Gates, but he was born in 1955. Not June 28. \\n\\nI think I need to conclude that only two are well-known, but the user asked for three. Maybe I can mention that there are not three, but provide the two and note that. However, the user specifically asked for three. Alternatively, maybe I can check if there\\'s a third person. \\n\\nWait, I think I remember that there\\'s a famous person named Sir Peter Ustinov, but he was born in 1927. Not June 28. \\n\\nAlternatively, maybe a famous person in the world of entertainment. I think there\\'s a famous person named Sir Ian McKellen, but he was born in 1946. Not June 28. \\n\\nI think I\\'ll have to go with the two I know and maybe include a third that I might have missed. Alternatively, maybe the user is okay with two, but the question says three. Maybe I should check if there\\'s a third person. \\n\\nWait, I think there\\'s a famous person named Sir Roger Moore, but he was born in 1927. Not June 28. \\n\\nI think I\\'ll have to proceed with the two and note that the third is not as well-known or perhaps I\\'m missing someone. Alternatively, maybe there\\'s a famous person born on June 28 in the 21st century. I think there\\'s a famous person named Billie Eilish, but she was born in 1999. Not June 28. \\n\\nHmm, I think I need to conclude that only two are known, but the user asked for three. Maybe the third is a less well-known person, but I can\\'t think of one. Alternatively, maybe there\\'s a mistake in the dates. Wait, I think I might have confused some dates. Let me check again. \\n\\nWait, I think there\\'s a famous person named Sir Richard Branson, but he was born in 1950. Not June 28. \\n\\nI think I\\'m stuck. I\\'ll go with the two I have and mention that there might be a third, but I can\\'t recall it.\\n</think>\\n\\nJune 28일에 생일을 낸 유명인 3명은 다음과 같습니다:\\n\\n1. **Madonna (마돈나)**  \\n   - **생년월일**: 1958년 6월 28일  \\n   - **소속분야**: 음악 (팝, 레게, 락 등), 패션, 영상 콘텐츠 제작  \\n   - **특징**: 1980년대부터 글로벌 스타로 활동하며 \"음악의 여왕\"으로 불리는 인물. 다양한 장르를 넘나드는 음악적 재능과 화려한 레이블 운영으로 유명.\\n\\n2. **John Travolta (존 트라볼타)**  \\n   - **생년월일**: 1959년 6월 28일  \\n   - **소속분야**: 영화 배우, 음악 (에이프릴 라이브)  \\n   - **특징**: 1970년대 이후 영화계에서 큰 성공을 거두며 \"영화의 신\"으로 불리는 배우. \"타임스\"에 등장한 1980년대의 대표적인 영화 작품들로 유명.\\n\\n3. **Jared Leto (제드 레토)**  \\n   - **생년월일**: 1966년 6월 28일  \\n   - **소속분야**: 영화 배우, 음악가 (가수, 연주자)  \\n   - **특징**: \"아이 러브 유\"에서의 연기로 주목받았으며, 레이디 가가와 함께한 \"The Fame Monster\" 앨범에서 음악적 활동도 이어졌다. \"레드 라이트\"와 같은 영화로 다시 주목받은 인물.\\n\\n**참고**: 유명인 중 June 28일 생일을 가진 인물은 상대적으로 적고, 일부는 특정 분야에서 더 잘 알려진 경우가 많습니다. 위 목록은 주로 문화, 음악, 영화 분야에서 유명한 인물들을 중심으로 구성되었습니다.'"
      ]
     },
     "execution_count": 12,
     "metadata": {},
     "output_type": "execute_result"
    }
   ],
   "source": [
    "# 날짜를 반환하는 함수 정의\n",
    "def get_today():\n",
    "    return datetime.now().strftime(\"%B %d\")\n",
    "\n",
    "# prompt 정의\n",
    "prompt = PromptTemplate(\n",
    "    template=\"오늘의 날짜는 {today} 입니다. 오늘이 생일인 유명인 {n}명을 나열해 주세요. 생년월일을 표기해주세요.\",\n",
    "    input_variables=[\"n\"],\n",
    "    partial_variables={\n",
    "        \"today\": get_today  # 함수의 return값으로서 partial_variables값 전달.\n",
    "    },\n",
    ")\n",
    "\n",
    "# 결과 확인\n",
    "chain = prompt | model\n",
    "chain.invoke(3).content.split('</think>\\n\\n')[1]"
   ]
  },
  {
   "cell_type": "markdown",
   "id": "8914cf5b",
   "metadata": {},
   "source": [
    "함수값으로서 선언하여도, 아래와 같이 String으로 다시 값을 치환하여서 넣을 수 있다."
   ]
  },
  {
   "cell_type": "code",
   "execution_count": null,
   "id": "45390fcf",
   "metadata": {},
   "outputs": [
    {
     "data": {
      "text/plain": [
       "'<think>\\nOkay, the user is asking for three famous people who have their birthday on January 2nd, along with their birth dates. Let me start by recalling some well-known individuals born on that day.\\n\\nFirst, I remember that Bob Dylan was born on May 24, 1941, so that\\'s not it. Wait, maybe someone else. Oh, right! Michael Jordan was born on February 17, 1963. Not January 2nd. Hmm.\\n\\nWait, there\\'s a singer named Adele. Let me check her birth date. Adele is born on May 5, 1980. No. Maybe a different field. How about actors? I think there\\'s an actor named James Gandolfini, but he was born on January 20, 1961. Close but not exactly.\\n\\nWait, maybe someone from the 19th century? Let me think. There\\'s a famous person named John D. Rockefeller, but he was born on July 8, 1839. Not helpful.\\n\\nWait, I think there\\'s a musician named Bob Seger. Let me check. Bob Seger was born on January 4, 1948. Still not. Maybe a more recent person. Oh! There\\'s a singer named Justin Bieber. His birthday is March 1, 1994. No.\\n\\nWait, maybe a sports figure. I remember that there\\'s a tennis player named Rafael Nadal, but he was born on June 12, 1987. Not January 2nd. \\n\\nWait, I think I\\'m missing something. Let me think again. There\\'s a famous person named Frank Sinatra. He was born on December 12, 1915. Not January 2nd. \\n\\nOh, wait! There\\'s a famous person named James Earl Jones. He was born on January 2, 1931. Yes, that\\'s one. Then, maybe someone else. Let me check. There\\'s a musician named David Bowie, but he was born on January 8, 1947. Close but not the same day. \\n\\nWait, there\\'s a singer named Shakin\\' Stevens. He was born on January 2, 1949. That\\'s another one. Then, maybe a different field. I think there\\'s a famous person named John Denver. He was born on January 2, 1940. That\\'s three. Let me confirm their birth dates.\\n\\nJames Earl Jones: January 2, 1931. Shakin\\' Stevens: January 2, 1949. John Denver: January 2, 1940. That seems to be three. Are there any others? Maybe someone else. Let me check. There\\'s a person named Dwayne Johnson, but he was born on May 2, 1961. Not the same. \\n\\nWait, maybe a more recent person. There\\'s a singer named Chris Brown, but his birthday is March 1, 1986. No. \\n\\nAlternatively, maybe a different name. I think I have three correct ones. Let me make sure their birth dates are accurate. James Earl Jones is correct. Shakin\\' Stevens is correct. John Denver is correct. So those three should be the answer.\\n</think>\\n\\n1. **재스 앤드류 존스 (James Earl Jones)**  \\n   - 생년월일: 1931년 1월 2일  \\n   - 주요 정보: 영화와 연극에서 유명한 배우, \"타이타닉\"에서의 제임스 케이지 역할로 유명.\\n\\n2. **시킹스 스티븐스 (Shakin\\' Stevens)**  \\n   - 생년월일: 1949년 1월 2일  \\n   - 주요 정보: 영국의 팝 가수, 1970년대에 대중화된 \"I\\'m a survivor\"로 유명.\\n\\n3. **존 데너 (John Denver)**  \\n   - 생년월일: 1940년 1월 2일  \\n   - 주요 정보: 미국의 음악가 및 가수, \"Take Me Home, Country Roads\"로 유명.\\n\\n이 세 명은 모두 1월 2일에 태어났으며, 각각 다른 분야에서 유명한 인물입니다.'"
      ]
     },
     "execution_count": 13,
     "metadata": {},
     "output_type": "execute_result"
    }
   ],
   "source": [
    "chain.invoke({\"today\": \"Jan 02\", \"n\": 3}).content.split('</think>\\n\\n')[1]"
   ]
  },
  {
   "cell_type": "markdown",
   "id": "7c0efc55",
   "metadata": {},
   "source": [
    "#### 방법 3. File로서 값을 가져오는 방법.\n",
    "\n",
    "LangChain에서 지원하는 PromptTemplate로서 file을 읽고 만드는 법은, 아래와 같이 load_prompt를 사용하는 방법이다."
   ]
  },
  {
   "cell_type": "code",
   "execution_count": null,
   "id": "4cb8de95",
   "metadata": {},
   "outputs": [
    {
     "data": {
      "text/plain": [
       "'<think>\\nOkay, the user is asking, \"What color is a 사과?\" which is Korean for \"What color is an apple?\" I need to answer that. First, I should confirm that \"사과\" is indeed the word for apple in Korean. Yes, that\\'s correct.\\n\\nNow, the question is about the color of an apple. But wait, apples can vary in color depending on the variety. Common colors are red, green, yellow, or even pink. So the answer isn\\'t a single color. The user might be expecting a specific answer, but the reality is that apples come in different colors. \\n\\nI should explain that while some apples are red, others are green, yellow, or even a mix of colors. Maybe mention that the color can depend on the type of apple. Also, note that the color can change as the apple ripens. For example, green apples might turn red when ripe. \\n\\nI should make sure to cover the main colors and maybe give examples of different apple varieties. Also, perhaps mention that the color can vary based on the region or the specific type. But I need to keep it concise. The user might be testing if I know that apples aren\\'t all the same color. \\n\\nWait, the user might be a non-native speaker, so maybe they\\'re confused about the color. But the answer is straightforward: apples can be red, green, yellow, or other colors. So I should state that clearly and provide examples. Also, maybe mention that the color can vary, so it\\'s not a fixed answer. \\n\\nI should avoid making it too technical, just a simple explanation. Make sure to use the Korean word for apple in the answer if needed, but since the question is in Korean, the answer should be in Korean. Wait, the user\\'s question is in Korean, but the answer is in English? Or should I answer in Korean? Wait, the user\\'s instruction says to answer in English, but the question is in Korean. Wait, looking back at the user\\'s message, the user wrote the question in Korean, but the assistant is supposed to answer in English. So the answer should be in English. \\n\\nSo, the answer would be that apples can be red, green, yellow, or other colors, depending on the variety. For example, red apples like Granny Smith are green when unripe, turning red when ripe. Golden Delicious are yellow. Red Delicious are red. Also, some apples have a mix of colors. So the answer is that the color varies, and list the common colors. Make sure to mention that it\\'s not a single color.\\n</think>\\n\\nA 사과 (apple) can come in various colors depending on the variety. Common colors include **red**, **green**, **yellow**, or **pink**. For example:  \\n- **Red apples** (e.g., Red Delicious, Granny Smith when ripe).  \\n- **Green apples** (e.g., Granny Smith, Honeycrisp).  \\n- **Yellow apples** (e.g., Golden Delicious).  \\n- Some varieties have a mix of colors (e.g., red and green).  \\n\\nThe color may also change as the apple ripens. For instance, green apples often turn red when fully ripe. So, the answer is not fixed—it depends on the type of apple! 🍎'"
      ]
     },
     "execution_count": 14,
     "metadata": {},
     "output_type": "execute_result"
    }
   ],
   "source": [
    "prompt = load_prompt('./data/fruit_color.yaml')\n",
    "chain = prompt | model\n",
    "chain.invoke(\"사과\").content.split('</think>\\n\\n')[1]"
   ]
  },
  {
   "cell_type": "markdown",
   "id": "db6b4d1d",
   "metadata": {},
   "source": [
    "### ChatPromptTemplate\n",
    "\n",
    "ChatPromptTemplate는 대화목록을 프롬프트로 주입하고자 할 때 활용할 수 있습니다.\n",
    "\n",
    "```python\n",
    "ChatPromptTemplate.from_messages(\n",
    "    messages: List[Union[Tuple[str, str], BaseMessagePromptTemplate]],\n",
    "    input_variables: Optional[List[str]] = None,\n",
    "    partial_variables: Optional[Dict[str, Any]] = None\n",
    ")\n",
    "```\n",
    "\n",
    "- <code>messages</code>: 메시지들을 순서대로 나열한 리스트. 각 메시지는 (\"role\", \"template string\") 형태의 튜플이거나 SystemMessagePromptTemplate, HumanMessagePromptTemplate 등의 객체로 구성할 수 있음.\n",
    "- <code>input_variables</code>: {}로 들어가는 변수명들의 리스트 (자동 추론되므로 대부분 생략 가능)\n",
    "- <code>partial_variables</code>: 일부 변수를 미리 값 또는 함수로 지정 (예: 날짜, 사용자 ID 등 고정값 처리용)\n",
    "\n",
    "**즉 ChatPromptTemplate란, 이전 대화들의 주체를 Role로서 구성하고 나눈 대화들을 content로서 넣어서 // 자연스러운 대화 결과를 얻기 위한 Prompt라고 생각할 수 있다.**\n",
    "\n",
    "\n",
    "#### PromptTemplate vs. ChatPromptTemplate\n",
    "\n",
    "| 항목          | `PromptTemplate`                              | `ChatPromptTemplate`                                     |\n",
    "|---------------|-----------------------------------------------|-----------------------------------------------------------|\n",
    "| **형식**       | 일반 텍스트 (문장 하나)                        | Chat 형태 (역할 기반 메시지 나열)                          |\n",
    "| **역할 설정**  | ❌ 없음                                       | ✅ `system`, `user`, `assistant` 등의 역할 지정 가능         |\n",
    "| **사용 모델**  | 일반 LLM (`text-davinci`, `llama`, 등)        | Chat LLM (`gpt-3.5-turbo`, `gpt-4`, `claude` 등)           |\n",
    "| **메시지 순서**| 하나의 문자열                                 | 여러 메시지를 순서대로 입력 가능                            |\n",
    "| **구성 요소**  | `{}`로 변수를 치환하는 하나의 문자열            | `SystemMessagePromptTemplate`, `HumanMessagePromptTemplate` 등 |\n",
    "\n"
   ]
  },
  {
   "cell_type": "code",
   "execution_count": 16,
   "id": "1ef8e781",
   "metadata": {},
   "outputs": [
    {
     "data": {
      "text/plain": [
       "'안녕하세요! 저는 테디입니다. 무엇을 도와드릴까요? 😊'"
      ]
     },
     "execution_count": 16,
     "metadata": {},
     "output_type": "execute_result"
    }
   ],
   "source": [
    "chat_template = ChatPromptTemplate.from_messages(\n",
    "    [\n",
    "        # role, message\n",
    "        (\"system\", \"당신은 친절한 AI 어시스턴트입니다. 당신의 이름은 {name} 입니다.\"),\n",
    "        (\"human\", \"반가워요!\"),\n",
    "        (\"ai\", \"안녕하세요! 무엇을 도와드릴까요?\"),\n",
    "        (\"human\", \"{user_input}\"),\n",
    "    ]\n",
    ")\n",
    "\n",
    "chain = chat_template | model\n",
    "chain.invoke({'name':'Teddy', 'user_input': '당신의 이름은 무엇입니까?'}).content.split('</think>\\n\\n')[1]"
   ]
  },
  {
   "cell_type": "markdown",
   "id": "60b6bb2f",
   "metadata": {},
   "source": [
    "### MessagePlaceHolder\n",
    "\n",
    "```python\n",
    "MessagesPlaceholder(\n",
    "    variable_name: str\n",
    ")\n",
    "```\n",
    "\n",
    "MessagePlaceHolder는 특정 값을 넣을 때 사용된다. 보통 **이전 대화 기록**이나 **메모리 출력** 등을 넣는 데 사용된다. input_variables와 차이가 없어보이나 아래와 같은 차이가 있다.\n",
    "\n",
    "#### input_variables vs. MessagePlaceHolder\n",
    "| 항목 | 설명 |\n",
    "|------|------|\n",
    "| `input_variables` | `{}` 안에 들어갈 일반 문자열 값 (예: 숫자, 이름 등) |\n",
    "| `MessagesPlaceholder` | 여러 개의 메시지 객체를 프롬프트 중간에 삽입할 때 사용 |\n",
    "\n",
    "- `input_variables`는 문자열 템플릿을 채우는 용도\n",
    "- `MessagesPlaceholder`는 Chat 구조 내에서 역할을 갖는 메시지들을 중간에 삽입할 수 있도록 함\n",
    "- 보통 **이전 대화 기록**이나 **메모리 출력** 등을 넣는 데 사용됨\n",
    "\n",
    "\n",
    "실제 MessagePlaceholder가 치환될 수 있는 값들은 아래와 같다. Input으로 들어가게 될때는 (role, message) 형태로 들어가게 된다.\n",
    "\n",
    "| 클래스           | 역할 설명         | role 값       | 예시 |\n",
    "|------------------|------------------|---------------|------|\n",
    "| `HumanMessage`   | 사용자 입력 역할   | `\"user\"`       | `HumanMessage(content=\"안녕\")` |\n",
    "| `AIMessage`      | AI 응답 역할      | `\"assistant\"`  | `AIMessage(content=\"안녕하세요!\")` |\n",
    "| `SystemMessage`  | 시스템 지침 역할   | `\"system\"`     | `SystemMessage(content=\"너는 요약 AI야\")` |"
   ]
  },
  {
   "cell_type": "markdown",
   "id": "23178124",
   "metadata": {},
   "source": [
    "LLM의 Ouput을 다음 LLM의 Input으로 사용하고 싶을 때, PlaceHolder를 사용하는 법은 아래와 같다."
   ]
  },
  {
   "cell_type": "code",
   "execution_count": null,
   "id": "a224836d",
   "metadata": {},
   "outputs": [
    {
     "name": "stdout",
     "output_type": "stream",
     "text": [
      "<think>\n",
      "사용자의 질문에 대해 친절하게 대답해야 해. 오늘 날씨가 어때는 질문이기 때문에, 사용자에게 날씨 정보를 제공해야 해. 하지만 현실적으로 날씨 정보는 내가 직접 알 수 없어서, 사용자에게 도움을 드리기 위해 필요한 정보를 물어보는 것이 좋을까? 예를 들어, 사용자가 어떤 지역을 묻고 있는지, 또는 어떤 날씨 정보를 원하는지 확인하는 것이 좋을 것 같아. 하지만 사용자가 직접 날씨 정보를 원하는 것 같아서, 그럴 때는 사용자에게 해당 지역의 날씨를 확인해달라고 요청하는 것이 좋을 것 같아. 하지만 이 경우, 내가 직접 날씨 정보를 제공하지 못해서, 사용자에게 도움을 드리기 위해 필요한 정보를 묻는 것이 더 적절할 것 같아.\n",
      "\n",
      "또한, 사용자와의 대화를 친절하게 유지하면서도, 실제 정보를 제공하지 않아도 되는 상황이기 때문에, 사용자에게 도움을 드리기 위해 필요한 정보를 묻는 것이 더 적절할 것 같아. 예를 들어, 사용자가 어떤 지역을 묻고 있는지, 또는 어떤 날씨 정보를 원하는지 확인하는 것이 좋을 것 같아. 이는 사용자가 더 정확한 정보를 얻도록 도와줄 수 있을 것 같아.\n",
      "\n",
      "또한, 사용자가 직접 날씨 정보를 원하는 것 같아서, 그럴 때는 사용자에게 해당 지역의 날씨를 확인해달라고 요청하는 것이 좋을 것 같아. 하지만 이 경우, 내가 직접 날씨 정보를 제공하지 못해서, 사용자에게 도움을 드리기 위해 필요한 정보를 묻는 것이 더 적절할 것 같아.\n",
      "\n",
      "결론적으로, 사용자가 날씨 정보를 원하는지 확인하고, 필요한 정보를 묻는 것이 적절할 것 같아. 예를 들어, \"어떤 지역의 날씨를 알고 싶으신가요?\"라고 물어보는 것이 좋을 것 같아.\n",
      "</think>\n",
      "\n",
      "안녕하세요! 오늘의 날씨 정보는 직접 확인해드릴 수 없어요. 혹시 특정 지역의 날씨를 알고 싶으신가요? 또는 어떤 날씨 정보(예: 기온, 강风, 비 등)를 원하시나요? 알려주시면 도와드릴게요! ☀️🌧️\n"
     ]
    }
   ],
   "source": [
    "# Step 1: 첫 번째 프롬프트 (단일 질문)\n",
    "first_prompt = ChatPromptTemplate.from_messages([\n",
    "    (\"system\", \"너는 친절한 AI야.\"),\n",
    "    (\"human\", \"{question}\"),\n",
    "])\n",
    "\n",
    "# 사용자 질문\n",
    "user_question = \"오늘 날씨 어때?\"\n",
    "\n",
    "# LLM에 첫 번째 질문 수행\n",
    "first_result = model.invoke(first_prompt.format_messages(question=user_question))\n",
    "print(first_result.content)"
   ]
  },
  {
   "cell_type": "code",
   "execution_count": null,
   "id": "1e090040",
   "metadata": {},
   "outputs": [
    {
     "name": "stdout",
     "output_type": "stream",
     "text": [
      "우리의 대화는 오늘의 날씨에 대한 질문과 함께 특정 지역이나 날씨 정보를 원하는지 확인하는 것이主要内容였습니다.\n"
     ]
    }
   ],
   "source": [
    "# Step 2: 생성된 응답을 기반으로 대화 기록 구성\n",
    "first_chat_result = first_result.content.split('</think>\\n\\n')[1]\n",
    "\n",
    "chat_history = [\n",
    "    HumanMessage(content=user_question),\n",
    "    AIMessage(content=first_chat_result)\n",
    "]\n",
    "\n",
    "# Step 3: 두 번째 프롬프트 - 이전 대화를 문맥으로 사용\n",
    "second_prompt = ChatPromptTemplate.from_messages([\n",
    "    (\"system\", \"너는 요약 전문 AI야.\"),\n",
    "    MessagesPlaceholder(variable_name=\"history\"),  # 이전 메시지 들어갈 자리\n",
    "    (\"human\", \"방금 대화를 한 문장으로 요약해줘.\"),\n",
    "])\n",
    "\n",
    "# history에 이전 대화 기록 전달\n",
    "second_result = model.invoke(\n",
    "    second_prompt.format_messages(\n",
    "        history=chat_history\n",
    "    )\n",
    ")\n",
    "\n",
    "print(second_result.content.split('</think>\\n\\n')[1])"
   ]
  },
  {
   "cell_type": "markdown",
   "id": "df4689c9",
   "metadata": {},
   "source": [
    "### FewShotPromptTemplate\n",
    "\n",
    "```python\n",
    "FewShotPromptTemplate(\n",
    "    examples: List[dict],\n",
    "    example_prompt: PromptTemplate,\n",
    "    prefix: Optional[str] = None,\n",
    "    suffix: Optional[str] = None,\n",
    "    input_variables: List[str],\n",
    "    example_separator: str = \"\\n\\n\"\n",
    ")\n",
    "```\n",
    "\n",
    "| 인자명                 | 타입               | 설명                       |\n",
    "| ------------------- | ---------------- | ------------------------ |\n",
    "| `examples`          | `List[dict]`     | 예시 샘플 데이터 (입출력 쌍)        |\n",
    "| `example_prompt`    | `PromptTemplate` | 각 예시를 어떻게 표현할지 정의        |\n",
    "| `prefix`            | `str`            | 예시 앞에 붙는 도입 문구           |\n",
    "| `suffix`            | `str`            | 실제 사용자 입력이 들어가는 부분       |\n",
    "| `input_variables`   | `List[str]`      | `suffix`에서 사용되는 변수 목록    |\n",
    "| `example_separator` | `str`            | 예시 사이의 구분자 (기본값: `\\n\\n`) |\n",
    "\n",
    "\n",
    "FewShot이란 LLM에 실제 예시를 주어짐으로서, Output의 형태를 지정하거나 혹은 어떠한 형태를 원하는지 정보를 전달하여 할루시네이션을 줄일 수 있습니다. 실제 사용하는 예시는 아래와 같습니다."
   ]
  },
  {
   "cell_type": "code",
   "execution_count": null,
   "id": "3ccaafef",
   "metadata": {},
   "outputs": [
    {
     "name": "stdout",
     "output_type": "stream",
     "text": [
      "Single Dataset Check\n",
      "Q: apple\n",
      "A: 사과\n",
      "\n",
      "\n",
      "FewShot Prompt 결과 확인.\n",
      "다음은 영어 단어를 한국어로 번역한 예시입니다:\n",
      "\n",
      "\n",
      "Q: apple\n",
      "A: 사과\n",
      "\n",
      "Q: car\n",
      "A: 자동차\n",
      "\n",
      "Q: school\n",
      "A: 학교\n",
      "\n",
      "Q: computer\n",
      "A:\n"
     ]
    }
   ],
   "source": [
    "# Fewshow에 사용할 Examples를 선언합니다. 해당 값은 List[dict]입니다.\n",
    "examples = [\n",
    "    {\"english\": \"apple\", \"korean\": \"사과\"},\n",
    "    {\"english\": \"car\", \"korean\": \"자동차\"},\n",
    "    {\"english\": \"school\", \"korean\": \"학교\"}\n",
    "]\n",
    "\n",
    "# 각 예시를 LLM에 넣을 Prompt Template입니다.\n",
    "example_prompt = PromptTemplate(\n",
    "    input_variables=[\"english\", \"korean\"], # 변수로 받을 값 입니다. english, korean을 입력으로 받습니다.\n",
    "    template=\"Q: {english}\\nA: {korean}\" # 입력받은 값으로서 어떻게 출력할지 형태를 정합니다.\n",
    ")\n",
    "\n",
    "print('Single Dataset Check')\n",
    "print(example_prompt.format(**examples[0]))\n",
    "\n",
    "# FewShotTemplate 선언\n",
    "few_shot_prompt = FewShotPromptTemplate(\n",
    "    examples=examples,\n",
    "    example_prompt=example_prompt,\n",
    "    prefix=\"다음은 영어 단어를 한국어로 번역한 예시입니다:\\n\",\n",
    "    suffix=\"Q: {english}\\nA:\",\n",
    "    input_variables=[\"english\"],\n",
    "    example_separator=\"\\n\\n\"\n",
    ")\n",
    "\n",
    "# 실제 입력 넣기\n",
    "print(\"\\n\\nFewShot Prompt 결과 확인.\")\n",
    "formatted_prompt = few_shot_prompt.format(english=\"computer\")\n",
    "print(formatted_prompt)"
   ]
  },
  {
   "cell_type": "code",
   "execution_count": null,
   "id": "95ec821c",
   "metadata": {},
   "outputs": [
    {
     "name": "stdout",
     "output_type": "stream",
     "text": [
      "Q: computer  \n",
      "A: 컴퓨터\n"
     ]
    }
   ],
   "source": [
    "# LLM에 사용할 Template 만들기\n",
    "chat_prompt = ChatPromptTemplate.from_messages([\n",
    "    (\"system\", \"너는 영어 단어를 한국어로 번역해주는 AI입니다.\"),\n",
    "    (\"human\", formatted_prompt)\n",
    "])\n",
    "\n",
    "print(model.invoke(chat_prompt.format_messages()).content.split('</think>\\n\\n')[1])"
   ]
  },
  {
   "cell_type": "markdown",
   "id": "b2d9c438",
   "metadata": {},
   "source": [
    "### Example Selector\n",
    "\n",
    "- 참조 사이트: https://python.langchain.com/v0.1/docs/modules/model_io/prompts/example_selectors/\n",
    "\n",
    "Fewshot의 예시를 많이 넣어두고, RAG에서 선택해서 필요한 Examples를 가져다 쓰게 하는게 보통 방법이다.  \n",
    "다양한 방법이 있지만, 몇몇 방법만 예제로서 확인해보자.\n",
    "\n",
    "\n",
    "#### Step1. Dataset 생성.\n",
    "\n",
    "실제 Example Selector에서 사용할 Dataset을 생성한다."
   ]
  },
  {
   "cell_type": "code",
   "execution_count": 17,
   "id": "ccaaf6c0",
   "metadata": {},
   "outputs": [],
   "source": [
    "examples = [\n",
    "    {\"english\": \"apple\", \"korean\": \"사과\"},\n",
    "    {\"english\": \"car\", \"korean\": \"자동차\"},\n",
    "    {\"english\": \"school\", \"korean\": \"학교\"},\n",
    "    {\"english\": \"computer\", \"korean\": \"컴퓨터\"},\n",
    "    {\"english\": \"house\", \"korean\": \"집\"},\n",
    "    {\"english\": \"pencil\", \"korean\": \"연필\"},\n",
    "    {\"english\": \"teacher\", \"korean\": \"선생님\"},\n",
    "    {\"english\": \"student\", \"korean\": \"학생\"},\n",
    "    {\"english\": \"city\", \"korean\": \"도시\"},\n",
    "    {\"english\": \"book\", \"korean\": \"책\"}\n",
    "]"
   ]
  },
  {
   "cell_type": "markdown",
   "id": "1878b259",
   "metadata": {},
   "source": [
    "**Appendix: Text to Embedding**: 실제 Embedding Model을 사용하는 것이 가장 정확하나. Local환경이 3090 GPU 1개로는 qwen3-4b + embedding model을 같이 올릴 수 없다. 따라서, dummy로 embedding하는 function으로서 embedding 값을 사용하자."
   ]
  },
  {
   "cell_type": "code",
   "execution_count": 18,
   "id": "e1923264",
   "metadata": {},
   "outputs": [
    {
     "data": {
      "text/plain": [
       "[[101.0, 110.0, 103.0, 108.0, 105.0]]"
      ]
     },
     "execution_count": 18,
     "metadata": {},
     "output_type": "execute_result"
    }
   ],
   "source": [
    "'''\n",
    "Dummy Embedding Function\n",
    "1. text의 앞부분 5글자만 가져와서 float으로 변경\n",
    "2. embed_documents, embed_query는 Embeddings에서 정의된 함수로서 내부적으로 싸져서 자동으로 사용할 수 있게 한다.\n",
    "'''\n",
    "\n",
    "class DummyEmbeddings(Embeddings):\n",
    "    def embed_documents(self, texts: List[str]) -> List[List[float]]:\n",
    "        # 실제로는 Qwen3 임베딩 사용 필요\n",
    "        return [[float(ord(c)) for c in text][:5] for text in texts]\n",
    "\n",
    "    def embed_query(self, text: str) -> List[float]:\n",
    "        return [float(ord(c)) for c in text][:5]\n",
    "    \n",
    "embedding = DummyEmbeddings()\n",
    "embedding.embed_documents(texts=['english'])"
   ]
  },
  {
   "cell_type": "markdown",
   "id": "3a338d96",
   "metadata": {},
   "source": [
    "**추가 팁: 어떤값이 Embedding 되는 것 인가?**\n",
    "\n",
    "DummyEmbedding을 보게 되면, document를 embedding하고, query를 embedding하는 것을 알 수 있다. 어떤 값을 기준으로 Embedding하는지 알아보면 다음과 같다.\n",
    "\n",
    "1. input_keys가 지정되었으면 그 key만 추출\n",
    "2. 지정되지 않았으면 dict.keys()[0] (첫 번째 key) 사용\n",
    "3. 해당 문자열들을 .embed_documents()로 전달\n",
    "4. 나중에 .select_examples(input) 호출 시, embed_query(input)과 벡터 유사도를 비교하여 가장 가까운 예시 k개 반환"
   ]
  },
  {
   "cell_type": "markdown",
   "id": "d938e791",
   "metadata": {},
   "source": [
    "#### Step2. Example Selector 종류\n",
    "\n",
    "실제로 많이 사용되는 ExampleSelector를 살펴보자.\n",
    "\n",
    "| Selector 클래스                          | 설명                                     |\n",
    "| ------------------------------------- | -------------------------------------- |\n",
    "| `SemanticSimilarityExampleSelector`   | 입력값과 임베딩 유사도가 높은 예시 `k`개 선택 (가장 많이 사용) |\n",
    "| `LengthBasedExampleSelector`          | 예시 길이 기반으로 `max_length` 이내에서 가능한 만큼 선택 |\n",
    "| `MaxMarginalRelevanceExampleSelector` | 유사성과 다양성을 동시에 고려하여 예시 선택               |\n"
   ]
  },
  {
   "cell_type": "markdown",
   "id": "47a44ac2",
   "metadata": {},
   "source": [
    "#### Step3. SemanticSimilarityExampleSelector\n",
    "\n",
    "실제, ExampleSelector중 하나로서, 해당 결과를 확인해보자.\n",
    "\n",
    "```python\n",
    "SemanticSimilarityExampleSelector.from_examples(\n",
    "    examples: List[dict],\n",
    "    embedding: Embeddings,\n",
    "    vectorstore_cls: Type[VectorStore],\n",
    "    k: int = 4,\n",
    "    input_keys: Optional[List[str]] = None\n",
    ")\n",
    "```\n",
    "| 인자명               | 타입                | 설명                                               |\n",
    "| ----------------- | ----------------- | ------------------------------------------------ |\n",
    "| `examples`        | `List[dict]`      | 예시 입력/출력 쌍들 (예: {\"english\": ..., \"korean\": ...}) |\n",
    "| `embedding`       | `Embeddings` 객체   | 예시의 입력을 벡터로 변환할 임베딩 모델                           |\n",
    "| `vectorstore_cls` | `VectorStore` 클래스 | 벡터를 저장하고 유사도 검색할 벡터스토어 클래스 (예: `FAISS`)          |\n",
    "| `k`               | `int`             | 입력값과 유사한 예시 몇 개를 선택할지 결정                         |\n",
    "| `input_keys`      | `List[str]` (선택)  | 어떤 key의 값을 임베딩 대상으로 사용할지 지정 (기본은 첫 키)            |\n",
    "\n"
   ]
  },
  {
   "cell_type": "code",
   "execution_count": 23,
   "id": "ce13eb40",
   "metadata": {},
   "outputs": [
    {
     "name": "stdout",
     "output_type": "stream",
     "text": [
      "다음은 영어 단어를 한국어로 번역한 예시입니다:\n",
      "\n",
      "\n",
      "Q: pencil\n",
      "A: 연필\n",
      "\n",
      "Q: student\n",
      "A: 학생\n",
      "\n",
      "Q: keyboard\n",
      "A:\n"
     ]
    }
   ],
   "source": [
    "from langchain.prompts.example_selector import SemanticSimilarityExampleSelector\n",
    "\n",
    "# Prompt Template으로서 english, korean을 Few Shot으로 넣기 위해 지정.\n",
    "example_prompt = PromptTemplate(\n",
    "    input_variables=[\"english\", \"korean\"], # key값의 2개는 english, korean이다.\n",
    "    template=\"Q: {english}\\nA: {korean}\" # 해당 값을 활용한 template는 다음과 같다.\n",
    ")\n",
    "\n",
    "# SemanticSearch로서 Embedding Vector를 구성한다.\n",
    "example_selector = SemanticSimilarityExampleSelector.from_examples(\n",
    "    examples=examples, # input dataset\n",
    "    embeddings=DummyEmbeddings(),  # 현재 GPU Memory 부족으로서 Dummy Embedding Function을 사용하여 Embedding 한다.\n",
    "    vectorstore_cls=FAISS, # 저장하는 vector store는 FAISS로서 지정한다.\n",
    "    k=2 # Few Shot의 갯수를 2개로 지정한다.\n",
    ")\n",
    "\n",
    "few_shot_prompt = FewShotPromptTemplate(\n",
    "    example_selector=example_selector,\n",
    "    example_prompt=example_prompt,\n",
    "    prefix=\"다음은 영어 단어를 한국어로 번역한 예시입니다:\\n\",\n",
    "    suffix=\"Q: {english}\\nA:\",\n",
    "    input_variables=[\"english\"]\n",
    ")\n",
    "\n",
    "print(few_shot_prompt.format(english=\"keyboard\"))"
   ]
  },
  {
   "cell_type": "code",
   "execution_count": 25,
   "id": "2aa708a3",
   "metadata": {},
   "outputs": [
    {
     "name": "stdout",
     "output_type": "stream",
     "text": [
      "Q: keyboard  \n",
      "A: 키보드\n"
     ]
    }
   ],
   "source": [
    "# LLM에 사용할 Template 만들기\n",
    "chat_prompt = ChatPromptTemplate.from_messages([\n",
    "    (\"system\", \"너는 영어 단어를 한국어로 번역해주는 AI입니다.\"),\n",
    "    (\"human\", few_shot_prompt.format(english=\"keyboard\"))\n",
    "])\n",
    "\n",
    "print(model.invoke(chat_prompt.format_messages()).content.split('</think>\\n\\n')[1])"
   ]
  },
  {
   "cell_type": "markdown",
   "id": "84602036",
   "metadata": {},
   "source": [
    "**Appendix. multi_index for RAG**: 아래와 같이 여러 key값을 모두 embedding에 사용할 수 있다.\n",
    "\n",
    "현재, DummyEmbedding에서는 2개 이상의 key값으로 Embedding하는 function을 지정하지 않아서, 사용하지는 못한다."
   ]
  },
  {
   "cell_type": "code",
   "execution_count": null,
   "id": "c8566881",
   "metadata": {},
   "outputs": [],
   "source": [
    "# SemanticSearch로서 Embedding Vector를 구성한다.\n",
    "example_selector = SemanticSimilarityExampleSelector.from_examples(\n",
    "    examples=examples, # input dataset\n",
    "    embeddings=DummyEmbeddings(),  # 현재 GPU Memory 부족으로서 Dummy Embedding Function을 사용하여 Embedding 한다.\n",
    "    vectorstore_cls=FAISS, # 저장하는 vector store는 FAISS로서 지정한다.\n",
    "    k=2, # Few Shot의 갯수를 2개로 지정한다.\n",
    "    input_keys=[\"english\", \"korean\"]\n",
    ")"
   ]
  },
  {
   "cell_type": "markdown",
   "id": "d86c712e",
   "metadata": {},
   "source": [
    "### LangChain-Hub\n",
    "\n",
    "LangChain-Hub에 들어가게 되면, 아래 Figure와 같이, 남들이 사용한 Prompt를 확인하여 사용할 수 있다.\n",
    "- link: https://smith.langchain.com/hub\n",
    "\n",
    "![png](./img/1.png)\n",
    "\n",
    "Prompt는 LangCahin-Hub에 연결하여, push하거나 pull하여 사용할 수 있다."
   ]
  },
  {
   "cell_type": "markdown",
   "id": "1c789c82",
   "metadata": {},
   "source": [
    "<hr>\n",
    "참조: <a href=\"https://wikidocs.net/book/14314\">LangChain 위키독스</a><br>\n",
    "참조: <a href=\"https://github.com/wjddyd66/LLM/tree/main\">원본 코드</a><br>\n",
    "\n",
    "코드에 문제가 있거나 궁금한 점이 있으면 wjddyd66@naver.com으로  Mail을 남겨주세요."
   ]
  }
 ],
 "metadata": {
  "kernelspec": {
   "display_name": "LLM",
   "language": "python",
   "name": "python3"
  },
  "language_info": {
   "codemirror_mode": {
    "name": "ipython",
    "version": 3
   },
   "file_extension": ".py",
   "mimetype": "text/x-python",
   "name": "python",
   "nbconvert_exporter": "python",
   "pygments_lexer": "ipython3",
   "version": "3.12.11"
  }
 },
 "nbformat": 4,
 "nbformat_minor": 5
}
